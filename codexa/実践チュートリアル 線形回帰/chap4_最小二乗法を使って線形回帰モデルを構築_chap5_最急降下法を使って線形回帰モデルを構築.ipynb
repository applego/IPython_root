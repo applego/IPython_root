{
 "cells": [
  {
   "cell_type": "markdown",
   "metadata": {},
   "source": [
    "# chap4 最小二乗法"
   ]
  },
  {
   "cell_type": "code",
   "execution_count": 1,
   "metadata": {
    "collapsed": true
   },
   "outputs": [],
   "source": [
    "import numpy as np\n",
    "import pandas as pd\n",
    "import matplotlib.pyplot as plt"
   ]
  },
  {
   "cell_type": "code",
   "execution_count": 2,
   "metadata": {
    "collapsed": true
   },
   "outputs": [],
   "source": [
    "data = pd.read_csv('./slr06.csv')"
   ]
  },
  {
   "cell_type": "code",
   "execution_count": 3,
   "metadata": {},
   "outputs": [
    {
     "data": {
      "text/html": [
       "<div>\n",
       "<style>\n",
       "    .dataframe thead tr:only-child th {\n",
       "        text-align: right;\n",
       "    }\n",
       "\n",
       "    .dataframe thead th {\n",
       "        text-align: left;\n",
       "    }\n",
       "\n",
       "    .dataframe tbody tr th {\n",
       "        vertical-align: top;\n",
       "    }\n",
       "</style>\n",
       "<table border=\"1\" class=\"dataframe\">\n",
       "  <thead>\n",
       "    <tr style=\"text-align: right;\">\n",
       "      <th></th>\n",
       "      <th>X</th>\n",
       "      <th>Y</th>\n",
       "    </tr>\n",
       "  </thead>\n",
       "  <tbody>\n",
       "    <tr>\n",
       "      <th>0</th>\n",
       "      <td>108</td>\n",
       "      <td>392.5</td>\n",
       "    </tr>\n",
       "    <tr>\n",
       "      <th>1</th>\n",
       "      <td>19</td>\n",
       "      <td>46.2</td>\n",
       "    </tr>\n",
       "    <tr>\n",
       "      <th>2</th>\n",
       "      <td>13</td>\n",
       "      <td>15.7</td>\n",
       "    </tr>\n",
       "    <tr>\n",
       "      <th>3</th>\n",
       "      <td>124</td>\n",
       "      <td>422.2</td>\n",
       "    </tr>\n",
       "    <tr>\n",
       "      <th>4</th>\n",
       "      <td>40</td>\n",
       "      <td>119.4</td>\n",
       "    </tr>\n",
       "  </tbody>\n",
       "</table>\n",
       "</div>"
      ],
      "text/plain": [
       "     X      Y\n",
       "0  108  392.5\n",
       "1   19   46.2\n",
       "2   13   15.7\n",
       "3  124  422.2\n",
       "4   40  119.4"
      ]
     },
     "execution_count": 3,
     "metadata": {},
     "output_type": "execute_result"
    }
   ],
   "source": [
    "data.head()"
   ]
  },
  {
   "cell_type": "markdown",
   "metadata": {},
   "source": [
    "こちらのデータですが、特徴量（X）が保険金支払い請求件数、ターゲット（y）が請求数に対して実際に支払われた保険金額（単位：1000 スェーデン・クローナ）です。\n",
    "\n",
    "次は、CSVファイルから読み込んだ特徴量X（保険金請求件数）とターゲットY（保険金支払い総額）の2つのデータを可視化してみましょう。\n",
    "\n",
    "データの可視化ですが、Pythonのオープンソースライブラリである「matplotlib」を使います。初めて扱うデータセットは、データの特性やパターンなどを把握するために、まずは可視化をするのが一般的です。"
   ]
  },
  {
   "cell_type": "code",
   "execution_count": 5,
   "metadata": {},
   "outputs": [
    {
     "data": {
      "image/png": "[encoded data removed]",
      "text/plain": [
       "<matplotlib.figure.Figure at 0x2406d33a2b0>"
      ]
     },
     "metadata": {},
     "output_type": "display_data"
    }
   ],
   "source": [
    "plt.plot(data['X'],data['Y'],'rx')\n",
    "plt.grid(True)\n",
    "plt.show()"
   ]
  },
  {
   "cell_type": "markdown",
   "metadata": {},
   "source": [
    "上の散布図をみても確認できますが、特徴量XとターゲットYは「正の線形関係」にあるのが解ります。これらのデータを最小二乗法を使って、一番フィットする線形モデル（直線）を求めましょう。\n",
    "\n",
    "最後に、データから特徴量xとターゲットyに切り分けてあげましょう。また、念のため切り分けたxとyのサイズをshape()を使って確認してみます。"
   ]
  },
  {
   "cell_type": "code",
   "execution_count": 6,
   "metadata": {},
   "outputs": [
    {
     "data": {
      "text/plain": [
       "((63,), (63,))"
      ]
     },
     "execution_count": 6,
     "metadata": {},
     "output_type": "execute_result"
    }
   ],
   "source": [
    "#xとyで分ける\n",
    "x = data['X']\n",
    "y = data['Y']\n",
    "\n",
    "#サイズ確認\n",
    "x.shape,y.shape"
   ]
  },
  {
   "cell_type": "markdown",
   "metadata": {},
   "source": [
    "両方とも63件のデータをもつPandasのシリーズとして切り分けられたのが確認できます。次は「最小二乗法」を使って、最適なw1（係数-直線の傾き）とw0（定数項-直線のY切片）を求めてみましょう！\n",
    "\n",
    "セクション3 最小二乗法を使ってみよう\n",
    "前回のチャプターで最小二乗法の計算式を勉強しましたが、コードに落とし込む前に簡単な復習をしましょう。まずは、線形モデルの式から見てみましょう。\n",
    "\n",
    "先ほど読み込んだデータの特徴量X（保険金請求件数）とターゲットy（保険金支払い総額）の関係性を最も適切に表す直線（線形モデル）の数式が上記でした。今回のゴールとして、上記の数式のw1（係数）とw0（定数項）を、最小二乗法を使って求めるわけです。\n",
    "\n",
    "最小二乗法を使ってw1とw0を求める数式として下記の2つの数式を使います。\n",
    "\n",
    "求める手順として、まずはw1を求めて、その後にw0を求めなくてはいけません。また、w1を求めるには、「xとyの共分散」と「xの分散」を求める必要があります。下記の式を使って、求めることが可能です。\n",
    "\n",
    "\n",
    "計算式の復習も出来ましたので、次はPythonを使ってw1とw0を計算してみましょう！まずは\n",
    "¯\n",
    "x\n",
    "（xの平均）と\n",
    "¯\n",
    "y\n",
    "（yの平均）を計算しましょう。"
   ]
  },
  {
   "cell_type": "code",
   "execution_count": 7,
   "metadata": {},
   "outputs": [
    {
     "name": "stdout",
     "output_type": "stream",
     "text": [
      "22.904761904761905\n",
      "98.18730158730159\n"
     ]
    }
   ],
   "source": [
    "#平均\n",
    "mean_x = np.mean(x)\n",
    "mean_y = np.mean(y)\n",
    "\n",
    "print(mean_x)\n",
    "print(mean_y)"
   ]
  },
  {
   "cell_type": "code",
   "execution_count": 10,
   "metadata": {},
   "outputs": [
    {
     "name": "stdout",
     "output_type": "stream",
     "text": [
      "63\n"
     ]
    }
   ],
   "source": [
    "#データの長さ「n」を計算\n",
    "n = len(x)\n",
    "print(n)"
   ]
  },
  {
   "cell_type": "markdown",
   "metadata": {},
   "source": [
    "こちらの自動車保険のデータセットですが、全部で63件のデータが入っていますので、n=63となります。\n",
    "\n",
    "では、いよいよ「共分散（covariance）」と「分散（variance）」をFor Loopを使って計算してみましょう。まずは、共分散と分散を０として作成します。"
   ]
  },
  {
   "cell_type": "code",
   "execution_count": 11,
   "metadata": {
    "collapsed": true
   },
   "outputs": [],
   "source": [
    "#共分散（covariance）と分散（variance）を0として作成\n",
    "covariance = 0\n",
    "variance = 0"
   ]
  },
  {
   "cell_type": "markdown",
   "metadata": {},
   "source": [
    "下記が「xとyの共分散」、「xの分散」さらにw1を計算する処理です。上の数式と見比べながらコードを理解しましょう。"
   ]
  },
  {
   "cell_type": "code",
   "execution_count": 12,
   "metadata": {
    "collapsed": true
   },
   "outputs": [],
   "source": [
    "#w1(係数)を求める\n",
    "for i in range(n):\n",
    "    covariance += (1/n) * (x[i] - mean_x) * (y[i] - mean_y) #xとyの共分散\n",
    "    variance += (1/n) * (x[i]-mean_x) ** 2 #xの分散の二乗\n",
    "w1 = covariance / variance"
   ]
  },
  {
   "cell_type": "code",
   "execution_count": 13,
   "metadata": {
    "collapsed": true
   },
   "outputs": [],
   "source": [
    "#定数項（w0)を求める\n",
    "w0 = mean_y - (w1*mean_x)"
   ]
  },
  {
   "cell_type": "code",
   "execution_count": 14,
   "metadata": {},
   "outputs": [
    {
     "name": "stdout",
     "output_type": "stream",
     "text": [
      "19.994485759114852 3.413823560066365\n"
     ]
    }
   ],
   "source": [
    "print(w0,w1)"
   ]
  },
  {
   "cell_type": "code",
   "execution_count": 15,
   "metadata": {},
   "outputs": [
    {
     "data": {
      "image/png": "[encoded data removed]",
      "text/plain": [
       "<matplotlib.figure.Figure at 0x2406f5374e0>"
      ]
     },
     "metadata": {},
     "output_type": "display_data"
    }
   ],
   "source": [
    "#算出したw1,w0を使ってグラフ描画\n",
    "plt.plot(data['X'],data['Y'],'rx')\n",
    "plt.plot(data['X'],data['X'] * w1 + w0, 'b-')\n",
    "plt.xlabel('Number of Claims')\n",
    "plt.ylabel('Total Payment(SEK)')\n",
    "plt.grid(True)\n",
    "plt.show()"
   ]
  },
  {
   "cell_type": "code",
   "execution_count": 16,
   "metadata": {},
   "outputs": [
    {
     "name": "stdout",
     "output_type": "stream",
     "text": [
      "327.23860616508773\n"
     ]
    }
   ],
   "source": [
    "#モデルを使って予測\n",
    "pred = w1 * 90 + w0\n",
    "print(pred)"
   ]
  },
  {
   "cell_type": "code",
   "execution_count": 17,
   "metadata": {},
   "outputs": [
    {
     "name": "stdout",
     "output_type": "stream",
     "text": [
      "35.36582996879147\n"
     ]
    }
   ],
   "source": [
    "#RMSE\n",
    "rmse = 0\n",
    "for i in range(n):\n",
    "    y_pred = w1 * x[i] + w0\n",
    "    rmse += (y_pred - y[i]) **2\n",
    "rmse = np.sqrt(rmse/n)\n",
    "print(rmse)"
   ]
  },
  {
   "cell_type": "markdown",
   "metadata": {},
   "source": [
    "# chap5　最急降下法"
   ]
  },
  {
   "cell_type": "markdown",
   "metadata": {},
   "source": [
    "前回のチャプターでは、最小二乗法を使って線形モデルを構築しました。今回のチャプターでは、全く同じデータセットを使い、異なる手法「最急降下法（Gradient Descent）」を使って線形モデルを構築してみましょう！\n",
    "\n",
    "「最小二乗法」でも「最急降下法」でも、使うデータは同じですので、線形モデルは同等または類似した値のモデルの構築ができるはずです。\n",
    "\n",
    "セクション2 コスト（誤差）を算出する関数\n",
    "最急降下法で最適なw1（係数）とw0（定数項）を導き出す前に、チャプター3でやった、 「予測値と実際値の誤差」を意味する「コスト」を計算する処理を書きましょう。\n",
    "\n",
    "最小二乗法では、一回の計算で最適なw1とw0を導き出すことができましたが、最急降下法では学習回数（Iterations）と学習率（Alpha）を設定して、何度も計算をすることで、最適な値（つまり誤差が最小となる地点）を導き出す方法です。\n",
    "\n",
    "コストを計算する処理を作成しておくことで、後ほど最急降下法を実行する際に、コストがどのように減少していくのかを確認することが可能です。\n",
    "\n",
    "「最小二乗法」でも「最急降下法」でも、求める線形モデルの数式は当然変わりません。\n",
    "\n",
    "機械学習の数式で\n",
    "^\n",
    "y\n",
    "（読み方-ワイハット）と出てきた場合、一般的にはモデルと特徴量から予測した「ターゲット」、つまり予測値を表します。また、コストですが、一般的に「J（ジェイ）」と表され、下記の数式で求める事が可能です。\n"
   ]
  },
  {
   "cell_type": "code",
   "execution_count": 18,
   "metadata": {
    "collapsed": true
   },
   "outputs": [],
   "source": [
    "#コスト関数（単回帰分析）\n",
    "def cost(w0,w1,x,y):\n",
    "    cost = 0\n",
    "    for i in range(0,len(x)):\n",
    "        cost += ((w1 * x[i] + w0) -y[i]) **2\n",
    "        cost = cost / (len(data)*2)\n",
    "    return cost"
   ]
  },
  {
   "cell_type": "code",
   "execution_count": 19,
   "metadata": {},
   "outputs": [
    {
     "name": "stdout",
     "output_type": "stream",
     "text": [
      "282.7911198866909\n"
     ]
    }
   ],
   "source": [
    "#パラメータ初期値を設定してコストを測定\n",
    "w0, w1 = 0,0\n",
    "cost_0 = cost(w0,w1,x,y)\n",
    "print(cost_0)"
   ]
  },
  {
   "cell_type": "code",
   "execution_count": 20,
   "metadata": {},
   "outputs": [
    {
     "data": {
      "image/png": "[encoded data removed]",
      "text/plain": [
       "<matplotlib.figure.Figure at 0x2406f420828>"
      ]
     },
     "metadata": {},
     "output_type": "display_data"
    }
   ],
   "source": [
    "#仮定モデルとデータの確認\n",
    "plt.scatter(x,y,c='r')\n",
    "plt.xlabel('Number of Claims')\n",
    "plt.ylabel('Total Paid Amount')\n",
    "\n",
    "plt.plot(x,x*w1+w0,'-')\n",
    "plt.show()"
   ]
  },
  {
   "cell_type": "code",
   "execution_count": 21,
   "metadata": {
    "collapsed": true
   },
   "outputs": [],
   "source": [
    "#必要なハイパーパラメーターの設定\n",
    "alpha = 0.001\n",
    "init_w0 = 0\n",
    "init_w1 = 0\n",
    "iterations = 10000"
   ]
  },
  {
   "cell_type": "code",
   "execution_count": 22,
   "metadata": {
    "collapsed": true
   },
   "outputs": [],
   "source": [
    "#最急降下法\n",
    "def gradientDescent(w0_in,w1_in,x,y,alpha):\n",
    "    w0_gradient = 0\n",
    "    w1_gradient = 0\n",
    "    m = len(x)\n",
    "    for i in range(0,len(x)):\n",
    "        w0_gradient += (1/m)*(((w1_in*x[i])+w0_in)-y[i])\n",
    "        w1_gradient += (1/m)*((((w1_in*x[i])+w0_in)-y[i])*x[i])\n",
    "    w0_out = w0_in - (alpha * w0_gradient)\n",
    "    w1_out = w1_in - (alpha * w1_gradient)\n",
    "    return[w0_out,w1_out]"
   ]
  },
  {
   "cell_type": "code",
   "execution_count": 23,
   "metadata": {
    "collapsed": true
   },
   "outputs": [],
   "source": [
    "#最急降下法とコスト処理を行います\n",
    "def run(x,y,init_w0,init_w1,alpha,iterations):\n",
    "    w0 = init_w0\n",
    "    w1 = init_w1\n",
    "    J_hist = np.zeros((iterations,1))\n",
    "    for i in range(iterations):\n",
    "        w0,w1 = gradientDescent(w0,w1,x,y,alpha)\n",
    "        J_hist[i] = cost(w0,w1,x,y)\n",
    "    return [w0,w1], J_hist"
   ]
  },
  {
   "cell_type": "code",
   "execution_count": 24,
   "metadata": {
    "collapsed": true
   },
   "outputs": [],
   "source": [
    "#最急降下法の実施\n",
    "[w0,w1],J_hist = run(x,y,init_w0,init_w1,alpha,iterations)"
   ]
  },
  {
   "cell_type": "code",
   "execution_count": 25,
   "metadata": {},
   "outputs": [
    {
     "name": "stdout",
     "output_type": "stream",
     "text": [
      "19.867578603427145 3.4165637865140375\n"
     ]
    }
   ],
   "source": [
    "print(w0,w1)"
   ]
  },
  {
   "cell_type": "code",
   "execution_count": 26,
   "metadata": {},
   "outputs": [
    {
     "data": {
      "image/png": "[encoded data removed]",
      "text/plain": [
       "<matplotlib.figure.Figure at 0x2406f4bf518>"
      ]
     },
     "metadata": {},
     "output_type": "display_data"
    }
   ],
   "source": [
    "#初期パラメータでのモデルとデータのプロット確認\n",
    "plt.scatter(x,y,c='r')\n",
    "plt.xlabel('Number of Claims')\n",
    "plt.ylabel('Total Paid Amount')\n",
    "\n",
    "plt.plot(x,x*w1+w0,'-')\n",
    "plt.draw()\n",
    "plt.grid(True)\n",
    "plt.show()"
   ]
  },
  {
   "cell_type": "code",
   "execution_count": 27,
   "metadata": {},
   "outputs": [
    {
     "data": {
      "image/png": "[encoded data removed]",
      "text/plain": [
       "<matplotlib.figure.Figure at 0x2406f4bfdd8>"
      ]
     },
     "metadata": {},
     "output_type": "display_data"
    }
   ],
   "source": [
    "#コストの確認\n",
    "plt.plot(range(J_hist.size),J_hist,\"-b\",linewidth=2)\n",
    "plt.xlabel('Number of iterations')\n",
    "plt.ylabel('Cost J')\n",
    "plt.show()"
   ]
  },
  {
   "cell_type": "code",
   "execution_count": 28,
   "metadata": {},
   "outputs": [
    {
     "ename": "NameError",
     "evalue": "name 'm' is not defined",
     "output_type": "error",
     "traceback": [
      "\u001b[1;31m---------------------------------------------------------------------------\u001b[0m",
      "\u001b[1;31mNameError\u001b[0m                                 Traceback (most recent call last)",
      "\u001b[1;32m<ipython-input-28-49ca76c9d44e>\u001b[0m in \u001b[0;36m<module>\u001b[1;34m()\u001b[0m\n\u001b[0;32m      1\u001b[0m \u001b[1;31m#最急降下法の線形モデルのRMSE\u001b[0m\u001b[1;33m\u001b[0m\u001b[1;33m\u001b[0m\u001b[1;33m\u001b[0m\u001b[0m\n\u001b[0;32m      2\u001b[0m \u001b[0mrmse\u001b[0m \u001b[1;33m=\u001b[0m \u001b[1;36m0\u001b[0m\u001b[1;33m\u001b[0m\u001b[1;33m\u001b[0m\u001b[0m\n\u001b[1;32m----> 3\u001b[1;33m \u001b[1;32mfor\u001b[0m \u001b[0mi\u001b[0m \u001b[1;32min\u001b[0m \u001b[0mrange\u001b[0m\u001b[1;33m(\u001b[0m\u001b[0mm\u001b[0m\u001b[1;33m)\u001b[0m\u001b[1;33m:\u001b[0m\u001b[1;33m\u001b[0m\u001b[1;33m\u001b[0m\u001b[0m\n\u001b[0m\u001b[0;32m      4\u001b[0m     \u001b[0my_pred\u001b[0m \u001b[1;33m=\u001b[0m \u001b[0mw1\u001b[0m\u001b[1;33m*\u001b[0m \u001b[0mx\u001b[0m\u001b[1;33m[\u001b[0m\u001b[0mi\u001b[0m\u001b[1;33m]\u001b[0m \u001b[1;33m+\u001b[0m \u001b[0mw0\u001b[0m\u001b[1;33m\u001b[0m\u001b[1;33m\u001b[0m\u001b[0m\n\u001b[0;32m      5\u001b[0m     \u001b[0mrmse\u001b[0m \u001b[1;33m+=\u001b[0m \u001b[1;33m(\u001b[0m\u001b[0my_pred\u001b[0m \u001b[1;33m-\u001b[0m \u001b[0my\u001b[0m\u001b[1;33m[\u001b[0m\u001b[0mi\u001b[0m\u001b[1;33m]\u001b[0m\u001b[1;33m)\u001b[0m \u001b[1;33m**\u001b[0m\u001b[1;36m2\u001b[0m\u001b[1;33m\u001b[0m\u001b[1;33m\u001b[0m\u001b[0m\n",
      "\u001b[1;31mNameError\u001b[0m: name 'm' is not defined"
     ]
    }
   ],
   "source": [
    "#最急降下法の線形モデルのRMSE\n",
    "rmse = 0\n",
    "for i in range(m):\n",
    "    y_pred = w1* x[i] + w0\n",
    "    rmse += (y_pred - y[i]) **2\n",
    "rmse = np.sqrt(rmse/m)\n",
    "print(rmse)"
   ]
  },
  {
   "cell_type": "code",
   "execution_count": null,
   "metadata": {
    "collapsed": true
   },
   "outputs": [],
   "source": []
  }
 ],
 "metadata": {
  "kernelspec": {
   "display_name": "Python 3",
   "language": "python",
   "name": "python3"
  },
  "language_info": {
   "codemirror_mode": {
    "name": "ipython",
    "version": 3
   },
   "file_extension": ".py",
   "mimetype": "text/x-python",
   "name": "python",
   "nbconvert_exporter": "python",
   "pygments_lexer": "ipython3",
   "version": "3.6.8"
  }
 },
 "nbformat": 4,
 "nbformat_minor": 2
}
