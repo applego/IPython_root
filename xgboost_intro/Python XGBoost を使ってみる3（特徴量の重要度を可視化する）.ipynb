{
 "cells": [
  {
   "cell_type": "markdown",
   "metadata": {},
   "source": [
    "XGBoost は決定木の仲間ということで特徴量の重要度 (Feature Importance) を可視化する機能を備えている。 次のサンプルコードでは、Iris データセットの分類にどの特徴量が有効だったのかを性能のゲインにもとづいて可視化している。"
   ]
  },
  {
   "cell_type": "code",
   "execution_count": 6,
   "metadata": {},
   "outputs": [
    {
     "data": {
      "text/plain": [
       "'XGBoost で特徴量の重要度を可視化するサンプルコード'"
      ]
     },
     "execution_count": 6,
     "metadata": {},
     "output_type": "execute_result"
    }
   ],
   "source": [
    "#!/usr/bin/env python\n",
    "# -*- coding: utf-8 -*-\n",
    "import pandas as pd\n",
    "\n",
    "import xgboost as xgb\n",
    "\n",
    "from sklearn import datasets\n",
    "from sklearn.model_selection import train_test_split\n",
    "from matplotlib import pyplot as plt\n",
    "\n",
    "\"\"\"XGBoost で特徴量の重要度を可視化するサンプルコード\"\"\"\n"
   ]
  },
  {
   "cell_type": "code",
   "execution_count": 7,
   "metadata": {
    "collapsed": true
   },
   "outputs": [],
   "source": [
    "dataset = datasets.load_iris()\n",
    "X, y = dataset.data, dataset.target"
   ]
  },
  {
   "cell_type": "code",
   "execution_count": 10,
   "metadata": {},
   "outputs": [],
   "source": [
    "X_train, X_test, y_train, y_test = train_test_split(X,y,\n",
    "                                                   test_size=0.3,\n",
    "                                                   random_state=42,\n",
    "                                                   stratify=y)"
   ]
  },
  {
   "cell_type": "code",
   "execution_count": 11,
   "metadata": {
    "collapsed": true
   },
   "outputs": [],
   "source": [
    "#可視化のために特徴量の名前を渡しておく\n",
    "dtrain = xgb.DMatrix(X_train, label=y_train,\n",
    "                    feature_names = dataset.feature_names)"
   ]
  },
  {
   "cell_type": "code",
   "execution_count": 12,
   "metadata": {
    "collapsed": true
   },
   "outputs": [],
   "source": [
    "dtest = xgb.DMatrix(X_test, label=y_test,\n",
    "                   feature_names = dataset.feature_names)"
   ]
  },
  {
   "cell_type": "code",
   "execution_count": 13,
   "metadata": {},
   "outputs": [
    {
     "name": "stdout",
     "output_type": "stream",
     "text": [
      "[0]\ttrain-mlogloss:0.742287\teval-mlogloss:0.765776\n",
      "Multiple eval metrics have been passed: 'eval-mlogloss' will be used for early stopping.\n",
      "\n",
      "Will train until eval-mlogloss hasn't improved in 10 rounds.\n",
      "[1]\ttrain-mlogloss:0.530648\teval-mlogloss:0.565862\n",
      "[2]\ttrain-mlogloss:0.39291\teval-mlogloss:0.441114\n",
      "[3]\ttrain-mlogloss:0.298636\teval-mlogloss:0.357715\n",
      "[4]\ttrain-mlogloss:0.231609\teval-mlogloss:0.303035\n",
      "[5]\ttrain-mlogloss:0.183134\teval-mlogloss:0.269981\n",
      "[6]\ttrain-mlogloss:0.147745\teval-mlogloss:0.244587\n",
      "[7]\ttrain-mlogloss:0.121195\teval-mlogloss:0.228647\n",
      "[8]\ttrain-mlogloss:0.101356\teval-mlogloss:0.21806\n",
      "[9]\ttrain-mlogloss:0.086442\teval-mlogloss:0.209126\n",
      "[10]\ttrain-mlogloss:0.074785\teval-mlogloss:0.206222\n",
      "[11]\ttrain-mlogloss:0.064011\teval-mlogloss:0.209763\n",
      "[12]\ttrain-mlogloss:0.056541\teval-mlogloss:0.204977\n",
      "[13]\ttrain-mlogloss:0.050953\teval-mlogloss:0.203838\n",
      "[14]\ttrain-mlogloss:0.046365\teval-mlogloss:0.199503\n",
      "[15]\ttrain-mlogloss:0.043192\teval-mlogloss:0.198099\n",
      "[16]\ttrain-mlogloss:0.039852\teval-mlogloss:0.195911\n",
      "[17]\ttrain-mlogloss:0.037592\teval-mlogloss:0.197114\n",
      "[18]\ttrain-mlogloss:0.035852\teval-mlogloss:0.203681\n",
      "[19]\ttrain-mlogloss:0.03459\teval-mlogloss:0.202509\n",
      "[20]\ttrain-mlogloss:0.033912\teval-mlogloss:0.204498\n",
      "[21]\ttrain-mlogloss:0.033056\teval-mlogloss:0.204586\n",
      "[22]\ttrain-mlogloss:0.031835\teval-mlogloss:0.210023\n",
      "[23]\ttrain-mlogloss:0.031352\teval-mlogloss:0.212193\n",
      "[24]\ttrain-mlogloss:0.030714\teval-mlogloss:0.212236\n",
      "[25]\ttrain-mlogloss:0.030301\teval-mlogloss:0.214694\n",
      "[26]\ttrain-mlogloss:0.029796\teval-mlogloss:0.215082\n",
      "Stopping. Best iteration:\n",
      "[16]\ttrain-mlogloss:0.039852\teval-mlogloss:0.195911\n",
      "\n"
     ]
    }
   ],
   "source": [
    "xgb_params = {\n",
    "    'objective':'multi:softmax',\n",
    "    'num_class':3,\n",
    "    'eval_metric':'mlogloss',\n",
    "}\n",
    "evals = [(dtrain, 'train'),(dtest, 'eval')]\n",
    "evals_result = {}\n",
    "bst = xgb.train(xgb_params,\n",
    "               dtrain,\n",
    "               num_boost_round=1000,\n",
    "               early_stopping_rounds=10,\n",
    "               evals=evals,\n",
    "               evals_result=evals_result,\n",
    "               )"
   ]
  },
  {
   "cell_type": "code",
   "execution_count": 14,
   "metadata": {},
   "outputs": [
    {
     "data": {
      "image/png": "[encoded data removed]",
      "text/plain": [
       "<matplotlib.figure.Figure at 0x233044f98d0>"
      ]
     },
     "metadata": {},
     "output_type": "display_data"
    }
   ],
   "source": [
    "#性能向上に寄与する度合いで重油小戸をプロットする\n",
    "_, ax = plt.subplots(figsize=(12,4))\n",
    "xgb.plot_importance(bst,\n",
    "                   ax=ax,\n",
    "                   importance_type='gain',\n",
    "                   show_values=False)\n",
    "plt.show()"
   ]
  },
  {
   "cell_type": "code",
   "execution_count": null,
   "metadata": {
    "collapsed": true
   },
   "outputs": [],
   "source": []
  }
 ],
 "metadata": {
  "kernelspec": {
   "display_name": "Python 3",
   "language": "python",
   "name": "python3"
  },
  "language_info": {
   "codemirror_mode": {
    "name": "ipython",
    "version": 3
   },
   "file_extension": ".py",
   "mimetype": "text/x-python",
   "name": "python",
   "nbconvert_exporter": "python",
   "pygments_lexer": "ipython3",
   "version": "3.6.1"
  }
 },
 "nbformat": 4,
 "nbformat_minor": 2
}
