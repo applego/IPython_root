{
 "cells": [
  {
   "cell_type": "markdown",
   "metadata": {},
   "source": [
    "続いては XGBoost で回帰問題を扱ってみる。 回帰問題を扱うときは学習時のパラメータとして渡す objective が reg から始まるようになる。\n",
    "\n",
    "次のサンプルコードでは XGBoost で Boston データセットを回帰している。 学習と検証の評価指標には RMSE (Root Mean Squared Error) を用いた。"
   ]
  },
  {
   "cell_type": "code",
   "execution_count": 1,
   "metadata": {},
   "outputs": [
    {
     "data": {
      "text/plain": [
       "'XGBoost で回帰するサンプルコード'"
      ]
     },
     "execution_count": 1,
     "metadata": {},
     "output_type": "execute_result"
    }
   ],
   "source": [
    "#!/usr/bin/env python\n",
    "# -*- coding: utf-8 -*-\n",
    "\n",
    "import math\n",
    "\n",
    "import xgboost as xgb\n",
    "\n",
    "from matplotlib import pyplot as plt\n",
    "from sklearn import datasets\n",
    "from sklearn.model_selection import train_test_split\n",
    "from sklearn.metrics import mean_squared_error\n",
    "\n",
    "\"\"\"XGBoost で回帰するサンプルコード\"\"\""
   ]
  },
  {
   "cell_type": "code",
   "execution_count": 3,
   "metadata": {},
   "outputs": [
    {
     "name": "stdout",
     "output_type": "stream",
     "text": [
      "[0]\ttrain-rmse:17.5096\teval-rmse:16.1546\n",
      "Multiple eval metrics have been passed: 'eval-rmse' will be used for early stopping.\n",
      "\n",
      "Will train until eval-rmse hasn't improved in 10 rounds.\n",
      "[1]\ttrain-rmse:12.6429\teval-rmse:11.8465\n",
      "[2]\ttrain-rmse:9.23475\teval-rmse:8.79823\n",
      "[3]\ttrain-rmse:6.81161\teval-rmse:6.72694\n",
      "[4]\ttrain-rmse:5.09609\teval-rmse:5.4663\n",
      "[5]\ttrain-rmse:3.88894\teval-rmse:4.66465\n",
      "[6]\ttrain-rmse:3.01101\teval-rmse:4.09554\n",
      "[7]\ttrain-rmse:2.40174\teval-rmse:3.74569\n",
      "[8]\ttrain-rmse:1.98716\teval-rmse:3.55166\n",
      "[9]\ttrain-rmse:1.66979\teval-rmse:3.38234\n",
      "[10]\ttrain-rmse:1.4389\teval-rmse:3.26254\n",
      "[11]\ttrain-rmse:1.28697\teval-rmse:3.17529\n",
      "[12]\ttrain-rmse:1.15322\teval-rmse:3.12702\n",
      "[13]\ttrain-rmse:1.05013\teval-rmse:3.10193\n",
      "[14]\ttrain-rmse:1.00159\teval-rmse:3.08192\n",
      "[15]\ttrain-rmse:0.96022\teval-rmse:3.07048\n",
      "[16]\ttrain-rmse:0.9035\teval-rmse:3.04675\n",
      "[17]\ttrain-rmse:0.866479\teval-rmse:3.04651\n",
      "[18]\ttrain-rmse:0.802834\teval-rmse:3.03131\n",
      "[19]\ttrain-rmse:0.757689\teval-rmse:3.0351\n",
      "[20]\ttrain-rmse:0.726376\teval-rmse:3.02171\n",
      "[21]\ttrain-rmse:0.707074\teval-rmse:3.01916\n",
      "[22]\ttrain-rmse:0.690377\teval-rmse:3.01851\n",
      "[23]\ttrain-rmse:0.636709\teval-rmse:3.01116\n",
      "[24]\ttrain-rmse:0.598423\teval-rmse:3.0232\n",
      "[25]\ttrain-rmse:0.564765\teval-rmse:3.0232\n",
      "[26]\ttrain-rmse:0.545155\teval-rmse:3.01511\n",
      "[27]\ttrain-rmse:0.508458\teval-rmse:2.99986\n",
      "[28]\ttrain-rmse:0.457969\teval-rmse:3.01017\n",
      "[29]\ttrain-rmse:0.437557\teval-rmse:3.00142\n",
      "[30]\ttrain-rmse:0.416628\teval-rmse:2.99653\n",
      "[31]\ttrain-rmse:0.384897\teval-rmse:3.00371\n",
      "[32]\ttrain-rmse:0.367738\teval-rmse:3.00584\n",
      "[33]\ttrain-rmse:0.357822\teval-rmse:3.00759\n",
      "[34]\ttrain-rmse:0.33004\teval-rmse:3.01347\n",
      "[35]\ttrain-rmse:0.313771\teval-rmse:3.01685\n",
      "[36]\ttrain-rmse:0.299657\teval-rmse:3.02145\n",
      "[37]\ttrain-rmse:0.282411\teval-rmse:3.02202\n",
      "[38]\ttrain-rmse:0.266558\teval-rmse:3.01858\n",
      "[39]\ttrain-rmse:0.248188\teval-rmse:3.01542\n",
      "[40]\ttrain-rmse:0.242419\teval-rmse:3.01425\n",
      "Stopping. Best iteration:\n",
      "[30]\ttrain-rmse:0.416628\teval-rmse:2.99653\n",
      "\n"
     ]
    }
   ],
   "source": [
    "#Bostonデータセットを読み込む\n",
    "dataset = datasets.load_boston()\n",
    "X, y = dataset.data, dataset.target\n",
    "\n",
    "X_train, X_test, y_train, y_test = train_test_split(X,y,\n",
    "                                                   test_size=0.3,\n",
    "                                                   random_state=42,\n",
    "                                                   )\n",
    "dtrain = xgb.DMatrix(X_train, label=y_train)\n",
    "dtest = xgb.DMatrix(X_test, label=y_test)\n",
    "\n",
    "xgb_params = {\n",
    "    #回帰問題\n",
    "    'objective':'reg:linear',\n",
    "    #学習用の指標（RMSE）\n",
    "    'eval_metric':'rmse',\n",
    "}\n",
    "evals = [(dtrain,'train'),(dtest,'eval')]\n",
    "evals_result = {}\n",
    "bst = xgb.train(xgb_params,\n",
    "               dtrain,\n",
    "               num_boost_round=1000,\n",
    "               early_stopping_rounds=10,\n",
    "               evals=evals,\n",
    "               evals_result=evals_result,\n",
    "               )"
   ]
  },
  {
   "cell_type": "code",
   "execution_count": 4,
   "metadata": {},
   "outputs": [
    {
     "name": "stdout",
     "output_type": "stream",
     "text": [
      "RMSE: 3.0142536913006244\n"
     ]
    }
   ],
   "source": [
    "y_pred = bst.predict(dtest)\n",
    "mse = mean_squared_error(y_test, y_pred)\n",
    "print('RMSE:',math.sqrt(mse))"
   ]
  },
  {
   "cell_type": "code",
   "execution_count": 5,
   "metadata": {},
   "outputs": [
    {
     "data": {
      "image/png": "[encoded data removed]",
      "text/plain": [
       "<matplotlib.figure.Figure at 0x1d6ed7a4e10>"
      ]
     },
     "metadata": {},
     "output_type": "display_data"
    }
   ],
   "source": [
    "train_metric = evals_result['train']['rmse']\n",
    "plt.plot(train_metric, label='train rmse')\n",
    "eval_metric = evals_result['eval']['rmse']\n",
    "plt.plot(eval_metric, label='eval rmse')\n",
    "plt.grid()\n",
    "plt.legend()\n",
    "plt.xlabel('rounds')\n",
    "plt.ylabel('rmse')\n",
    "plt.show()"
   ]
  },
  {
   "cell_type": "code",
   "execution_count": null,
   "metadata": {
    "collapsed": true
   },
   "outputs": [],
   "source": []
  }
 ],
 "metadata": {
  "kernelspec": {
   "display_name": "Python 3",
   "language": "python",
   "name": "python3"
  },
  "language_info": {
   "codemirror_mode": {
    "name": "ipython",
    "version": 3
   },
   "file_extension": ".py",
   "mimetype": "text/x-python",
   "name": "python",
   "nbconvert_exporter": "python",
   "pygments_lexer": "ipython3",
   "version": "3.6.1"
  }
 },
 "nbformat": 4,
 "nbformat_minor": 2
}
