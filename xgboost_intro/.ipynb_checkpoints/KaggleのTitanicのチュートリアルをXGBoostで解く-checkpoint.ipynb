{
 "cells": [
  {
   "cell_type": "code",
   "execution_count": 1,
   "metadata": {
    "collapsed": true
   },
   "outputs": [],
   "source": [
    "import pandas as pd \n",
    "import xgboost as xgb\n",
    "from sklearn.model_selection import train_test_split\n",
    "from sklearn.metrics import accuracy_score"
   ]
  },
  {
   "cell_type": "code",
   "execution_count": 2,
   "metadata": {
    "collapsed": true
   },
   "outputs": [],
   "source": [
    "def preprocess(df):\n",
    "    df['Fare'] = df['Fare'].fillna(df['Fare'].mean())\n",
    "    df['Age'] = df['Age'].fillna(df['Age'].mean())\n",
    "    df['Embarked'] = df['Embarked'].fillna('Unknown')\n",
    "    df['Sex'] = df['Sex'].apply(lambda x: 1 if x == 'male' else 0)\n",
    "    df['Embarked'] = df['Embarked'].map({'S':0, 'C':1, 'Q':2, 'Unknown':3}).astype(int)\n",
    "    df = df.drop(['Cabin','Name','PassengerId','Ticket'],axis=1)\n",
    "    return df\n",
    "\n",
    "def train(df):\n",
    "    train_x = df.drop('Survived', axis=1)\n",
    "    train_y = df.Survived\n",
    "    (train_x, test_x , train_y, test_y) = train_test_split(train_x, train_y, test_size=0.6,random_state=42)\n",
    "    dtrain = xgb.DMatrix(train_x, label=train_y)\n",
    "    param={'max_depth':3, 'learning_rate':0.6, 'objective':'binary:logistic'}\n",
    "    num_round = 2\n",
    "    bst = xgb.train(param, dtrain, num_round)\n",
    "    preds = bst.predict(xgb.DMatrix(test_x))\n",
    "    print(accuracy_score(preds.round(), test_y))\n",
    "    \n",
    "    return bst\n",
    "\n",
    "def predict(bst, df):\n",
    "    return bst.predict(xgb.DMatrix(df))"
   ]
  },
  {
   "cell_type": "code",
   "execution_count": 3,
   "metadata": {},
   "outputs": [
    {
     "name": "stdout",
     "output_type": "stream",
     "text": [
      "0.8205607476635514\n"
     ]
    }
   ],
   "source": [
    "df = pd.read_csv('./titanic_train.csv')\n",
    "df_test_origin = pd.read_csv('./titanic_test.csv')\n",
    "df = preprocess(df)\n",
    "df_test = preprocess(df_test_origin)\n",
    "bst = train(df)"
   ]
  },
  {
   "cell_type": "code",
   "execution_count": 4,
   "metadata": {
    "collapsed": true
   },
   "outputs": [],
   "source": [
    "answer = predict(bst,df_test).round().astype(int)"
   ]
  },
  {
   "cell_type": "code",
   "execution_count": 5,
   "metadata": {
    "collapsed": true
   },
   "outputs": [],
   "source": [
    "submit_data = pd.Series(answer, name='Survived', index=df_test_origin['PassengerId'])\n",
    "submit_data.to_csv('titanic_submit.csv', header=True)"
   ]
  },
  {
   "cell_type": "markdown",
   "metadata": {},
   "source": [
    "# 追記\n",
    "## 学習過程を可視化する"
   ]
  },
  {
   "cell_type": "code",
   "execution_count": 10,
   "metadata": {},
   "outputs": [],
   "source": [
    "from matplotlib import pyplot as plt\n",
    "import numpy as np"
   ]
  },
  {
   "cell_type": "code",
   "execution_count": 22,
   "metadata": {
    "collapsed": true
   },
   "outputs": [],
   "source": [
    "def train2(df):\n",
    "    train_x = df.drop('Survived', axis=1)\n",
    "    train_y = df.Survived\n",
    "    (train_x, test_x , train_y, test_y) = train_test_split(train_x, train_y, test_size=0.6,random_state=42)\n",
    "    dtrain = xgb.DMatrix(train_x, label=train_y)\n",
    "    dtest = xgb.DMatrix(test_x, label=test_y)\n",
    "    param={'max_depth':3, 'learning_rate':0.6, 'objective':'binary:logistic','eval_metric':'logloss',}\n",
    "    #追記　学習用に用いる検証用データ\n",
    "    evals = [(dtrain, 'train'),(dtest, 'eval')]\n",
    "    num_round = 1\n",
    "    evals_result = {}\n",
    "    bst = xgb.train(param, dtrain, num_round,evals=evals,evals_result=evals_result,)\n",
    "    y_pred_proba = bst.predict(dtest)\n",
    "    y_pred = np.where(y_pred_proba > 0.5, 1,0)\n",
    "    acc = accuracy_score(test_y,y_pred)\n",
    "    print('Accuracy2:',acc)\n",
    "    #学習過程を折れ線グラフとしてプロットする\n",
    "    train_metric = evals_result['train']['logloss']\n",
    "    plt.plot(train_metric, label='train logloss')\n",
    "    eval_metric = evals_result['eval']['logloss']\n",
    "    plt.plot(eval_metric, label='eval logloss')\n",
    "    plt.grid()\n",
    "    plt.legend()\n",
    "    plt.xlabel('rounds')\n",
    "    plt.ylabel('logloss')\n",
    "    plt.xlim(0,10)\n",
    "    plt.show()\n",
    "    return bst"
   ]
  },
  {
   "cell_type": "code",
   "execution_count": 23,
   "metadata": {},
   "outputs": [
    {
     "name": "stdout",
     "output_type": "stream",
     "text": [
      "[0]\ttrain-logloss:0.497781\teval-logloss:0.504687\n",
      "Accuracy2: 0.8149532710280374\n"
     ]
    },
    {
     "data": {
      "image/png": "[encoded data removed]",
      "text/plain": [
       "<matplotlib.figure.Figure at 0x2174f1e5780>"
      ]
     },
     "metadata": {},
     "output_type": "display_data"
    }
   ],
   "source": [
    "bst2 = train2(df)"
   ]
  },
  {
   "cell_type": "code",
   "execution_count": 15,
   "metadata": {},
   "outputs": [
    {
     "name": "stdout",
     "output_type": "stream",
     "text": [
      "0.8205607476635514\n"
     ]
    }
   ],
   "source": [
    "bst = train(df)"
   ]
  },
  {
   "cell_type": "code",
   "execution_count": null,
   "metadata": {
    "collapsed": true
   },
   "outputs": [],
   "source": []
  }
 ],
 "metadata": {
  "kernelspec": {
   "display_name": "Python 3",
   "language": "python",
   "name": "python3"
  },
  "language_info": {
   "codemirror_mode": {
    "name": "ipython",
    "version": 3
   },
   "file_extension": ".py",
   "mimetype": "text/x-python",
   "name": "python",
   "nbconvert_exporter": "python",
   "pygments_lexer": "ipython3",
   "version": "3.6.1"
  }
 },
 "nbformat": 4,
 "nbformat_minor": 2
}
