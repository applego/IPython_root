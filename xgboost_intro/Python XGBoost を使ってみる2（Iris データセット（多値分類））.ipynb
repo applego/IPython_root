{
 "cells": [
  {
   "cell_type": "code",
   "execution_count": 1,
   "metadata": {},
   "outputs": [
    {
     "data": {
      "text/plain": [
       "'XGBoost で多値分類するサンプルコード'"
      ]
     },
     "execution_count": 1,
     "metadata": {},
     "output_type": "execute_result"
    }
   ],
   "source": [
    "#!/usr/bin/env python\n",
    "# -*- coding: utf-8 -*-\n",
    "\n",
    "import xgboost as xgb\n",
    "\n",
    "from matplotlib import pyplot as plt\n",
    "from sklearn import datasets\n",
    "from sklearn.model_selection import train_test_split\n",
    "from sklearn.metrics import accuracy_score\n",
    "\n",
    "\"\"\"XGBoost で多値分類するサンプルコード\"\"\"\n"
   ]
  },
  {
   "cell_type": "markdown",
   "metadata": {},
   "source": [
    "# Irisデータセットを読み込む"
   ]
  },
  {
   "cell_type": "code",
   "execution_count": 3,
   "metadata": {},
   "outputs": [],
   "source": [
    "dataset = datasets.load_iris()\n",
    "#dataset"
   ]
  },
  {
   "cell_type": "code",
   "execution_count": 4,
   "metadata": {
    "collapsed": true
   },
   "outputs": [],
   "source": [
    "X, y = dataset.data, dataset.target\n",
    "X_train, X_test, y_train, y_test = train_test_split(X,y,\n",
    "                                                   test_size=0.3,\n",
    "                                                   random_state=42,\n",
    "                                                   stratify=y)"
   ]
  },
  {
   "cell_type": "code",
   "execution_count": 7,
   "metadata": {},
   "outputs": [
    {
     "data": {
      "text/plain": [
       "array([1, 1, 0, 2, 1, 2, 0, 0, 0, 2, 2, 0, 0, 1, 1, 2, 0, 0, 2, 1, 0, 2,\n",
       "       2, 2, 1, 0, 0, 0, 1, 1, 0, 0, 1, 1, 0, 0, 1, 2, 2, 0, 2, 0, 2, 0,\n",
       "       2, 1, 0, 2, 1, 2, 1, 0, 1, 2, 1, 2, 0, 1, 0, 1, 1, 1, 2, 1, 1, 2,\n",
       "       2, 0, 2, 1, 1, 2, 0, 2, 2, 1, 0, 2, 2, 0, 0, 2, 2, 2, 0, 2, 1, 2,\n",
       "       2, 0, 1, 1, 1, 1, 1, 0, 2, 1, 2, 0, 0, 1, 0, 1, 0])"
      ]
     },
     "execution_count": 7,
     "metadata": {},
     "output_type": "execute_result"
    }
   ],
   "source": [
    "X_train\n",
    "y_train"
   ]
  },
  {
   "cell_type": "code",
   "execution_count": 8,
   "metadata": {
    "collapsed": true
   },
   "outputs": [],
   "source": [
    "dtrain = xgb.DMatrix(X_train, label=y_train)\n",
    "dtest = xgb.DMatrix(X_test, label=y_test)"
   ]
  },
  {
   "cell_type": "code",
   "execution_count": 9,
   "metadata": {},
   "outputs": [
    {
     "name": "stdout",
     "output_type": "stream",
     "text": [
      "[0]\ttrain-mlogloss:0.742287\teval-mlogloss:0.765776\n",
      "Multiple eval metrics have been passed: 'eval-mlogloss' will be used for early stopping.\n",
      "\n",
      "Will train until eval-mlogloss hasn't improved in 10 rounds.\n",
      "[1]\ttrain-mlogloss:0.530648\teval-mlogloss:0.565862\n",
      "[2]\ttrain-mlogloss:0.39291\teval-mlogloss:0.441114\n",
      "[3]\ttrain-mlogloss:0.298636\teval-mlogloss:0.357715\n",
      "[4]\ttrain-mlogloss:0.231609\teval-mlogloss:0.303035\n",
      "[5]\ttrain-mlogloss:0.183134\teval-mlogloss:0.269981\n",
      "[6]\ttrain-mlogloss:0.147745\teval-mlogloss:0.244587\n",
      "[7]\ttrain-mlogloss:0.121195\teval-mlogloss:0.228647\n",
      "[8]\ttrain-mlogloss:0.101356\teval-mlogloss:0.21806\n",
      "[9]\ttrain-mlogloss:0.086442\teval-mlogloss:0.209126\n",
      "[10]\ttrain-mlogloss:0.074785\teval-mlogloss:0.206222\n",
      "[11]\ttrain-mlogloss:0.064011\teval-mlogloss:0.209763\n",
      "[12]\ttrain-mlogloss:0.056541\teval-mlogloss:0.204977\n",
      "[13]\ttrain-mlogloss:0.050953\teval-mlogloss:0.203838\n",
      "[14]\ttrain-mlogloss:0.046365\teval-mlogloss:0.199503\n",
      "[15]\ttrain-mlogloss:0.043192\teval-mlogloss:0.198099\n",
      "[16]\ttrain-mlogloss:0.039852\teval-mlogloss:0.195911\n",
      "[17]\ttrain-mlogloss:0.037592\teval-mlogloss:0.197114\n",
      "[18]\ttrain-mlogloss:0.035852\teval-mlogloss:0.203681\n",
      "[19]\ttrain-mlogloss:0.03459\teval-mlogloss:0.202509\n",
      "[20]\ttrain-mlogloss:0.033912\teval-mlogloss:0.204498\n",
      "[21]\ttrain-mlogloss:0.033056\teval-mlogloss:0.204586\n",
      "[22]\ttrain-mlogloss:0.031835\teval-mlogloss:0.210023\n",
      "[23]\ttrain-mlogloss:0.031352\teval-mlogloss:0.212193\n",
      "[24]\ttrain-mlogloss:0.030714\teval-mlogloss:0.212236\n",
      "[25]\ttrain-mlogloss:0.030301\teval-mlogloss:0.214694\n",
      "[26]\ttrain-mlogloss:0.029796\teval-mlogloss:0.215082\n",
      "Stopping. Best iteration:\n",
      "[16]\ttrain-mlogloss:0.039852\teval-mlogloss:0.195911\n",
      "\n"
     ]
    }
   ],
   "source": [
    "xgb_params = {\n",
    "    #多値分類問題\n",
    "    'objective':'multi:softmax',\n",
    "    #クラス数\n",
    "    'num_class':3,\n",
    "    #学習用の指標（Multiclass logloss)\n",
    "    'eval_metric':'mlogloss',\n",
    "}\n",
    "evals=[(dtrain,'train'),(dtest,'eval')]\n",
    "evals_result = {}\n",
    "bst = xgb.train(xgb_params,\n",
    "               dtrain,\n",
    "               num_boost_round=1000,\n",
    "               early_stopping_rounds=10,\n",
    "               evals=evals,\n",
    "               evals_result=evals_result,\n",
    "               )"
   ]
  },
  {
   "cell_type": "code",
   "execution_count": 10,
   "metadata": {},
   "outputs": [
    {
     "name": "stdout",
     "output_type": "stream",
     "text": [
      "Accuracy: 0.9333333333333333\n"
     ]
    }
   ],
   "source": [
    "y_pred = bst.predict(dtest)\n",
    "acc = accuracy_score(y_test, y_pred)\n",
    "print('Accuracy:', acc)"
   ]
  },
  {
   "cell_type": "code",
   "execution_count": 11,
   "metadata": {},
   "outputs": [
    {
     "data": {
      "image/png": "[encoded data removed]",
      "text/plain": [
       "<matplotlib.figure.Figure at 0x238366f0f28>"
      ]
     },
     "metadata": {},
     "output_type": "display_data"
    }
   ],
   "source": [
    "train_metric = evals_result['train']['mlogloss']\n",
    "plt.plot(train_metric, label='train logloss')\n",
    "eval_metric = evals_result['eval']['mlogloss']\n",
    "plt.plot(eval_metric, label='eval logloss')\n",
    "plt.grid()\n",
    "plt.legend()\n",
    "plt.xlabel('rounds')\n",
    "plt.ylabel('logloss')\n",
    "plt.show()"
   ]
  },
  {
   "cell_type": "markdown",
   "metadata": {},
   "source": [
    "乳がんデータセットに比べると、単純な分だけラウンド数がかなり少ないようだ。\n",
    "\n",
    "得られた学習過程のグラフは次の通り。 学習用データの損失は減っているものの、検証用データの損失が減らない状況が生じていることから過学習の予兆が見られる。"
   ]
  },
  {
   "cell_type": "code",
   "execution_count": null,
   "metadata": {
    "collapsed": true
   },
   "outputs": [],
   "source": []
  }
 ],
 "metadata": {
  "kernelspec": {
   "display_name": "Python 3",
   "language": "python",
   "name": "python3"
  },
  "language_info": {
   "codemirror_mode": {
    "name": "ipython",
    "version": 3
   },
   "file_extension": ".py",
   "mimetype": "text/x-python",
   "name": "python",
   "nbconvert_exporter": "python",
   "pygments_lexer": "ipython3",
   "version": "3.6.1"
  }
 },
 "nbformat": 4,
 "nbformat_minor": 2
}
