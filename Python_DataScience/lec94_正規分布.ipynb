{
 "cells": [
  {
   "cell_type": "code",
   "execution_count": 1,
   "metadata": {},
   "outputs": [
    {
     "data": {
      "text/html": [
       "<img src=\"http://upload.wikimedia.org/wikipedia/commons/thumb/2/25/The_Normal_Distribution.svg/725px-The_Normal_Distribution.svg.png\"/>"
      ],
      "text/plain": [
       "<IPython.core.display.Image object>"
      ]
     },
     "execution_count": 1,
     "metadata": {},
     "output_type": "execute_result"
    }
   ],
   "source": [
    "from IPython.display import Image\n",
    "Image(url='http://upload.wikimedia.org/wikipedia/commons/thumb/2/25/The_Normal_Distribution.svg/725px-The_Normal_Distribution.svg.png')"
   ]
  },
  {
   "cell_type": "markdown",
   "metadata": {},
   "source": [
    "分布の形を見て、正規分布の主な特徴を確認していきましょう。\n",
    "\n",
    "1.) 左右に裾野を持ちます。\n",
    "2.) 曲線は左右対称です。\n",
    "3.) ピークは平均の値です。\n",
    "4.) 標準偏差が曲線の形を特徴付けます。\n",
    "    - 背が高い分布は、小さな標準偏差のときです。\n",
    "    - 太った分布は、大きな標準偏差のときです。\n",
    "5.) 曲線のしたの面積（AUC: area under the curve）は1です。\n",
    "6.) 平均値、中央値、最頻値（mode）がすべて同じです。\n",
    "平均が0、標準偏差が1の標準正規分布では、±1標準偏差に68%、±2標準偏差に95%が含まれ、±3標準偏差までには、全体の99.7%が含まれます。この1,2,3といった数字をz-scoreと呼ぶこともあります。"
   ]
  },
  {
   "cell_type": "code",
   "execution_count": 5,
   "metadata": {},
   "outputs": [
    {
     "data": {
      "text/plain": [
       "[<matplotlib.lines.Line2D at 0x1a1cef3b00>]"
      ]
     },
     "execution_count": 5,
     "metadata": {},
     "output_type": "execute_result"
    },
    {
     "data": {
      "image/png": "[encoded data removed]",
      "text/plain": [
       "<Figure size 432x288 with 1 Axes>"
      ]
     },
     "metadata": {
      "needs_background": "light"
     },
     "output_type": "display_data"
    }
   ],
   "source": [
    "import matplotlib as mpl\n",
    "import matplotlib.pyplot as plt\n",
    "import numpy as np\n",
    "%matplotlib inline\n",
    "\n",
    "# statsライブラリをImportします。\n",
    "from scipy import stats\n",
    "\n",
    "# 平均を0\n",
    "mean = 0\n",
    "\n",
    "# 標準偏差を1にしてみましょう。\n",
    "std = 1\n",
    "\n",
    "# 便宜的に領域を決めます。\n",
    "X = np.arange(-4,4,0.01)\n",
    "\n",
    "# 値を計算します。\n",
    "Y = stats.norm.pdf(X,mean,std)\n",
    "\n",
    "plt.plot(X,Y)"
   ]
  },
  {
   "cell_type": "code",
   "execution_count": 7,
   "metadata": {},
   "outputs": [],
   "source": [
    "import numpy as np\n",
    "\n",
    "mu,sigma = 0,0.1\n",
    "\n",
    "#正規分布に従う乱数を1000個生成します。\n",
    "norm_set = np.random.normal(mu,sigma,1000)"
   ]
  },
  {
   "cell_type": "code",
   "execution_count": 8,
   "metadata": {},
   "outputs": [
    {
     "data": {
      "text/plain": [
       "(array([ 2.,  0.,  1.,  2.,  1.,  3.,  2.,  8.,  7., 10., 10., 14., 18.,\n",
       "        12., 17., 20., 27., 34., 37., 53., 39., 41., 43., 48., 45., 56.,\n",
       "        53., 56., 45., 34., 37., 42., 30., 30., 20., 27., 21., 12., 12.,\n",
       "         6.,  8.,  6.,  2.,  0.,  1.,  2.,  1.,  3.,  0.,  2.]),\n",
       " array([-0.31416551, -0.3014662 , -0.28876688, -0.27606757, -0.26336825,\n",
       "        -0.25066894, -0.23796962, -0.22527031, -0.21257099, -0.19987168,\n",
       "        -0.18717236, -0.17447305, -0.16177373, -0.14907442, -0.13637511,\n",
       "        -0.12367579, -0.11097648, -0.09827716, -0.08557785, -0.07287853,\n",
       "        -0.06017922, -0.0474799 , -0.03478059, -0.02208127, -0.00938196,\n",
       "         0.00331736,  0.01601667,  0.02871599,  0.0414153 ,  0.05411462,\n",
       "         0.06681393,  0.07951324,  0.09221256,  0.10491187,  0.11761119,\n",
       "         0.1303105 ,  0.14300982,  0.15570913,  0.16840845,  0.18110776,\n",
       "         0.19380708,  0.20650639,  0.21920571,  0.23190502,  0.24460434,\n",
       "         0.25730365,  0.27000297,  0.28270228,  0.2954016 ,  0.30810091,\n",
       "         0.32080022]),\n",
       " <a list of 50 Patch objects>)"
      ]
     },
     "execution_count": 8,
     "metadata": {},
     "output_type": "execute_result"
    },
    {
     "data": {
      "image/png": "[encoded data removed]",
      "text/plain": [
       "<Figure size 432x288 with 1 Axes>"
      ]
     },
     "metadata": {
      "needs_background": "light"
     },
     "output_type": "display_data"
    }
   ],
   "source": [
    "#seabornを使ってプロットしてみましょう。\n",
    "import seaborn as sns\n",
    "\n",
    "plt.hist(norm_set,bins=50)"
   ]
  },
  {
   "cell_type": "code",
   "execution_count": null,
   "metadata": {},
   "outputs": [],
   "source": []
  }
 ],
 "metadata": {
  "jupytext": {
   "main_language": "python",
   "text_representation": {
    "extension": ".py",
    "format_name": "light",
    "format_version": "1.3",
    "jupytext_version": "1.0.2"
   }
  },
  "kernelspec": {
   "display_name": "Python 3",
   "language": "python",
   "name": "python3"
  },
  "language_info": {
   "codemirror_mode": {
    "name": "ipython",
    "version": 3
   },
   "file_extension": ".py",
   "mimetype": "text/x-python",
   "name": "python",
   "nbconvert_exporter": "python",
   "pygments_lexer": "ipython3",
   "version": "3.7.1"
  },
  "toc": {
   "base_numbering": 1,
   "nav_menu": {},
   "number_sections": true,
   "sideBar": true,
   "skip_h1_title": false,
   "title_cell": "Table of Contents",
   "title_sidebar": "Contents",
   "toc_cell": false,
   "toc_position": {},
   "toc_section_display": true,
   "toc_window_display": false
  }
 },
 "nbformat": 4,
 "nbformat_minor": 2
}
