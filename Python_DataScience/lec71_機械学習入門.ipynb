{
 "cells": [
  {
   "cell_type": "markdown",
   "metadata": {},
   "source": [
    "\n",
    "# 機械学習入門\n",
    "\n",
    "このセクションは、SciKit Learn を使った実践的な機械学習の入門コースです。\n",
    "\n",
    "インストールが済んでいない場合は、以下のいずれかの方法でインストールしておいてください。\n",
    "\n",
    "pip install scikit-learn\n",
    "\n",
    "conda install scikit-learn\n",
    "\n",
    "## このコースで学べること\n",
    "機械学習アルゴリズムには、数学的な背景があります。各レクチャーは、できるだけ分かり易くこの背景を説明したあと、実際にPythonのコードを実行する流れになります。\n",
    "\n",
    "機械学習に関する話題は広いので、すべてを網羅することは出来ませんが、レクチャーを終えれば、いろいろな方法論についての知識が付きます。\n",
    "\n",
    "## 機械学習に関する資料\n",
    "1. ) SciKit Learnのドキュメントは、英語になってしまいますが秀逸です。\n",
    "\n",
    "SciKit Learn Tutorial\n",
    "\n",
    "2. ) 数少ない日本語の入門コースです 技術評論社のページ\n",
    "\n",
    "3. ) sasという会社さんのページですが、よくまとまっています。機械学習\n",
    "\n",
    "4. ) 英語になってしまいますが、Andrew Ng先生の講義です。\n",
    "\n",
    "notes\n",
    "\n",
    "Coursera Video\n",
    "\n",
    "Pythonやscikit learnは使っていませんが、数学的な背景についてはよい入門になっています。"
   ]
  },
  {
   "cell_type": "markdown",
   "metadata": {},
   "source": [
    "# 学習とテスト\n",
    "\n",
    "- 学習（Training)\n",
    "    - 説明変数を使って、目的変数をうまく予測できるモデルを作る\n",
    "- テスト（Test）\n",
    "    - 説明変数だけを使って、目的変数を予測\n",
    "- 分類（Classification)\n",
    "    - 目的変数が離散的（クラス１、クラス２、・・・）\n",
    "- 回帰（Regression)\n",
    "    - 目的変数が連続的な値"
   ]
  },
  {
   "cell_type": "markdown",
   "metadata": {},
   "source": [
    "# 学習の種類\n",
    "- 教師あり学習（Supervised learning)\n",
    "    - 目的変数を学習に利用してモデルを作る\n",
    "- 教師なし学習（Unsupervised learning)\n",
    "    - 説明変数だけを使って、サンプルの分類などをする"
   ]
  },
  {
   "cell_type": "code",
   "execution_count": null,
   "metadata": {},
   "outputs": [],
   "source": []
  }
 ],
 "metadata": {
  "jupytext": {
   "main_language": "python",
   "text_representation": {
    "extension": ".py",
    "format_name": "light",
    "format_version": "1.3",
    "jupytext_version": "1.0.2"
   }
  },
  "kernelspec": {
   "display_name": "Python 3",
   "language": "python",
   "name": "python3"
  },
  "language_info": {
   "codemirror_mode": {
    "name": "ipython",
    "version": 3
   },
   "file_extension": ".py",
   "mimetype": "text/x-python",
   "name": "python",
   "nbconvert_exporter": "python",
   "pygments_lexer": "ipython3",
   "version": "3.7.1"
  },
  "toc": {
   "base_numbering": 1,
   "nav_menu": {},
   "number_sections": true,
   "sideBar": true,
   "skip_h1_title": false,
   "title_cell": "Table of Contents",
   "title_sidebar": "Contents",
   "toc_cell": false,
   "toc_position": {},
   "toc_section_display": true,
   "toc_window_display": false
  }
 },
 "nbformat": 4,
 "nbformat_minor": 2
}
