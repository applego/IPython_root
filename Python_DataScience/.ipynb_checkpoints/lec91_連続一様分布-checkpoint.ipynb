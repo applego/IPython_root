{
 "cells": [
  {
   "cell_type": "markdown",
   "metadata": {},
   "source": [
    "連続一様分布について解説します。離散一様分布を先に見ておいてください。\n",
    "離散一様分布では、取り得る値と確率を分かりやすく対応付けることができました。しかし、連続一様分布ではそうは行きません。無限の精度を求めると、いくらでも数字を細かくできます。これは、2つの数字を考えたとき、その間から必ず別の数字を選べるという意味でもあります。例えば、5.41と5.42を考えると、5.415を選べます。\n",
    "\n",
    "そう考えると、連続一様分布では、取り得る値の個数nが無限大になります。そうなると、確率は1/∞になってしまうので、0です。これでは話が始まりませんので、連続分布で確率を考えるときは、1点ではなく、領域を考えます。これを分かり易くするために、例を交えながら、さらに見ていくことにしましょう。\n",
    "\n",
    "連続な確率変数Xが次のような確率密度関数（probability density function）に従うとき、これを連続一様分布と呼びます。\n",
    "f(x)=1(b−a)a<=x<=b\n",
    "離散一様分布では、f(x)=1/n でしたが、連続一様分布では、最小値aと最大値bの間で定義される領域を考えます。\n",
    "\n",
    "分布の平均は単純です。\n",
    "\n",
    "(a+b)2\n",
    " \n",
    "分散は次のように定義されます。\n",
    "\n",
    "σ2=(b−a)212\n",
    " \n",
    "ニューヨーク市での平均的なタクシーの乗車時間は22分くらいであることが知られています。調査の結果、この乗車時間が、19分から27分の間の連続的な一様分布に従うことが分かったとします。タクシー乗車時間の確率密度関数を求めてみましょう。"
   ]
  },
  {
   "cell_type": "code",
   "execution_count": null,
   "metadata": {},
   "outputs": [],
   "source": [
    "#乗車時間の下限\n",
    "a = 19and"
   ]
  }
 ],
 "metadata": {
  "jupytext": {
   "main_language": "python",
   "text_representation": {
    "extension": ".py",
    "format_name": "light",
    "format_version": "1.3",
    "jupytext_version": "1.0.2"
   }
  },
  "kernelspec": {
   "display_name": "Python 3",
   "language": "python",
   "name": "python3"
  },
  "language_info": {
   "codemirror_mode": {
    "name": "ipython",
    "version": 3
   },
   "file_extension": ".py",
   "mimetype": "text/x-python",
   "name": "python",
   "nbconvert_exporter": "python",
   "pygments_lexer": "ipython3",
   "version": "3.7.1"
  },
  "toc": {
   "base_numbering": 1,
   "nav_menu": {},
   "number_sections": true,
   "sideBar": true,
   "skip_h1_title": false,
   "title_cell": "Table of Contents",
   "title_sidebar": "Contents",
   "toc_cell": false,
   "toc_position": {},
   "toc_section_display": true,
   "toc_window_display": false
  }
 },
 "nbformat": 4,
 "nbformat_minor": 2
}
