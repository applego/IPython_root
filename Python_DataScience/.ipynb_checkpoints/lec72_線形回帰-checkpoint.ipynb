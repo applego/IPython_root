{
 "cells": [
  {
   "cell_type": "markdown",
   "metadata": {},
   "source": [
    "# 線形回帰（教師有り学習）\n",
    "ここから始まるレクチャーでは、線形回帰について学びます。 scikit-learnを使って、線形回帰のモデルを作り、新しいデータを使った予測を試みます。 サンプルデータは、アメリカの大都市ボストンの住宅価格です。初めは、1つだけの変数を使った単回帰をやってみます。\n",
    "\n",
    "線形回帰の数学的な背景に興味がある場合は、以下のサイトが参考になります。\n",
    "\n",
    "wikipedia（日本語）\n",
    "wikipedia（英語）\n",
    "Andrew Ngの動画（英語）もあります youtube.\n",
    "4回に分かれているレクチャーの概要です。\n",
    "\n",
    "Step 1: データの準備\n",
    "Step 2: ひとまず可視化\n",
    "\n",
    "Step 3: 最小二乗法の数学的な背景\n",
    "\n",
    "Step 4: Numpyを使った単回帰\n",
    "\n",
    "Step 5: 誤差について\n",
    "\n",
    "Step 6: scikit-learnを使った重回帰分析\n",
    "\n",
    "Step 7: 学習（Training）と検証Validation）\n",
    "\n",
    "Step 8: 価格の予測\n",
    "\n",
    "Step 9 : 残差プロット\n",
    "\n",
    "## Step 1: データの準備\n",
    "scikit-learnに用意されているサンプルデータを使います。"
   ]
  },
  {
   "cell_type": "code",
   "execution_count": null,
   "metadata": {},
   "outputs": [],
   "source": [
    "ji"
   ]
  }
 ],
 "metadata": {
  "jupytext": {
   "main_language": "python",
   "text_representation": {
    "extension": ".py",
    "format_name": "light",
    "format_version": "1.3",
    "jupytext_version": "1.0.2"
   }
  },
  "kernelspec": {
   "display_name": "Python 3",
   "language": "python",
   "name": "python3"
  },
  "language_info": {
   "codemirror_mode": {
    "name": "ipython",
    "version": 3
   },
   "file_extension": ".py",
   "mimetype": "text/x-python",
   "name": "python",
   "nbconvert_exporter": "python",
   "pygments_lexer": "ipython3",
   "version": "3.7.1"
  },
  "toc": {
   "base_numbering": 1,
   "nav_menu": {},
   "number_sections": true,
   "sideBar": true,
   "skip_h1_title": false,
   "title_cell": "Table of Contents",
   "title_sidebar": "Contents",
   "toc_cell": false,
   "toc_position": {},
   "toc_section_display": true,
   "toc_window_display": false
  }
 },
 "nbformat": 4,
 "nbformat_minor": 2
}
