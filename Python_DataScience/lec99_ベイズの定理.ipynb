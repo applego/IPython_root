{
 "cells": [
  {
   "cell_type": "markdown",
   "metadata": {},
   "source": [
    "ベイズの定理（Bayes Theorem）\n",
    "このレクチャーでは、例を交えながら、ペイズの定理の基本的な内容を紹介します。\n",
    "\n",
    "Overview\n",
    "ベイズの定理は、条件付き確率を使って、次のように表現できます。\n",
    "\n",
    "P(A|B)=P(B|A)P(A)/P(B)\n",
    " \n",
    "ここで、P(A|B) は、Bが起こったという条件のもとで、Aが起こる確率です。\n",
    "\n",
    "ベイズの定理の真髄は、等号の左右で、 P(A|B) と P(B|A) が入れ替わっているところにあります。これを例を通じて実感してみることにしましょう。\n",
    "\n",
    "- クッキー問題\n",
    "\n",
    "ボールが2つあって、それぞれにクッキーが40個入っています。\n",
    "\n",
    "ボール1には、バニラクッキーが30個、チョコレートクッキーが10個\n",
    "\n",
    "ボール2には、バニラとチョコレートが20個ずつ\n",
    "\n",
    "目を閉じて、どちらかのボールから、クッキーを1つ取り出しました。このクッキーがバニラだったとき、ボール1を選んだ確率は？\n",
    "\n",
    "Bをバニラクッキーを選ぶという事象という意味でV、Aをボール1を選ぶ事象としてB1と書くことにします。\n",
    "\n",
    "P(B1|V)=P(V|B1)P(B1)/P(V)\n",
    " \n",
    "文字を入れ替えただけですが、左辺は、バニラクッキーが選ばれたという条件のもとで、ボールが1番だった確率を表現しているので、求めたいものに他なりません。右辺のパーツをすべて計算出来れば、答えが出ます。\n",
    "\n",
    "P(V|B1)  ボール1を選んだ時に、バニラクッキーがでる確率  30/40 \n",
    "P(B1)  ボール1を選ぶ確率  1/2 \n",
    "P(V)  バニラクッキーを選ぶ確率  50/80 \n",
    "全部まとめると、\n",
    "\n",
    "P(B1|V)=35\n",
    " \n",
    "となります。"
   ]
  },
  {
   "cell_type": "markdown",
   "metadata": {},
   "source": [
    "1→バニラ：３０、チョコ：１０\n",
    "\n",
    "２→バニラ：20、チョコ：２０\n",
    "\n",
    "一個とったら、バニラだった。→ボール１を選んだ確率は？\n",
    "Bをバニラを選ぶという事象という意味でV、Aをボール１を選ぶ事象としてB1と書くことにします。\n",
    "\n",
    "P(B1 | V)=P(V | B1) * P(B1) / P(V)\n",
    "\n",
    "B1を選んだ状況でバニラを選ぶ確率✕B1を選ぶ確率/バニラを選ぶ確率\n"
   ]
  }
 ],
 "metadata": {
  "jupytext": {
   "main_language": "python",
   "text_representation": {
    "extension": ".py",
    "format_name": "light",
    "format_version": "1.3",
    "jupytext_version": "1.0.2"
   }
  },
  "kernelspec": {
   "display_name": "Python 3",
   "language": "python",
   "name": "python3"
  },
  "language_info": {
   "codemirror_mode": {
    "name": "ipython",
    "version": 3
   },
   "file_extension": ".py",
   "mimetype": "text/x-python",
   "name": "python",
   "nbconvert_exporter": "python",
   "pygments_lexer": "ipython3",
   "version": "3.7.1"
  },
  "toc": {
   "base_numbering": 1,
   "nav_menu": {},
   "number_sections": true,
   "sideBar": true,
   "skip_h1_title": false,
   "title_cell": "Table of Contents",
   "title_sidebar": "Contents",
   "toc_cell": false,
   "toc_position": {},
   "toc_section_display": true,
   "toc_window_display": false
  }
 },
 "nbformat": 4,
 "nbformat_minor": 2
}
