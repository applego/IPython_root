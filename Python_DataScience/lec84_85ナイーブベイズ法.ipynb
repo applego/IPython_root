{
 "cells": [
  {
   "cell_type": "markdown",
   "metadata": {},
   "source": [
    "# ナイーブベイズ分類¶\n",
    "\n",
    "- Part 1: 数学的な準備\n",
    "- Part 2: ベイズの定理\n",
    "- Part 3: ナイーブベイズの紹介\n",
    "- Part 4: 数学的な背景\n",
    "- Part 5: 確率を使った分類\n",
    "- Part 6: Gaussian Naive Bayes\n",
    "- Part 7: Scikit Learnを使ったGaussian Naive Bayes\n",
    "- Part 1: 数学的な準備\n",
    "\n",
    "まずは足し算で使われるΣの、かけ算バージョン、Πについてです。\n",
    "\n",
    "∏i=14i=1⋅2⋅3⋅4,\n",
    " \n",
    "これは連続的なかけ算を意味するので、\n",
    "∏i=14i=24.\n",
    " \n",
    "Arg Max\n",
    "\n",
    "与えられた関数を最大にする入力（定義域）を次のような記号で書くことがあります。\n",
    "\n",
    "argmaxxf(x):={x∣∀y:f(y)≤f(x)}\n",
    " \n",
    "例えば、f(x)が 1−|x| なら、この関数を最大にするxは0になります。\n",
    "\n",
    "argmaxx(1−|x|)={0}\n",
    " \n",
    "- Part 2: ベイズの定理\n",
    "統計に関して解説した付録のなかに、ベイズの定理を紹介したレクチャーがありますので、そちらを先にご覧ください。\n",
    "\n",
    "- Part 3: ナイーブベイズの紹介\n",
    "ナイーブベイズ（Naive Bayes）は、スパムメールの分類などに実際に利用されている機械学習アルゴリズムです。ただ、その背景を完全に理解するには、数学的な記述が欠かせません。ここでは、細かいところを省略しながら、その本質をご紹介します。\n",
    "\n",
    "- Part 4: 数学的な背景\n",
    "yが目的変数、説明変数が x1 から xn まであるとします。ベイズの定理を使うと、与えられた説明変数を元に、そのサンプルがどのクラスに属するかの確率を次のような式で計算できます。\n",
    "\n",
    "P(y∣x1,…,xn)=P(y)P(x1,…xn∣y)P(x1,…,xn)\n",
    " \n",
    "**ナイーブベイズのナイーブは、各説明変数が互いに独立**であるという仮定から来ています。\n",
    "P(xi|y,x1,…,xi−1,xi+1,…,xn)=P(xi|y)\n",
    " \n",
    "この仮定のもとでは、すべての i について、式を次のように変形できます。\n",
    "\n",
    "P(y∣x1,…,xn)=P(y)∏ni=1P(xi∣y)P(x1,…,xn)\n",
    " \n",
    "それぞれの変数について、クラスごとの確率を求めればよいので、計算が楽になります。\n",
    "\n",
    "- Part 5: 確率を使った分類\n",
    "ナイーブベイズでは、それぞれのクラスに属する確率が計算されるので、最終的には、そのサンプルを、確率が最も大きいクラスに分類します。ここで、arg maxの記号が出てくる分けです。\n",
    "\n",
    "P(x1, ..., xn) は手元のデータセットに関しては一定の値なので、無視できます。\n",
    "\n",
    "P(y∣x1,…,xn)∝P(y)∏i=1nP(xi∣y)\n",
    " \n",
    "最終的には、もっとも大きな確率が割り当たるクラスに、サンプルを分類します。\n",
    "\n",
    "ŷ =argmaxyP(y)∏i=1nP(xi∣y),\n",
    " \n",
    "- Part 6: Gaussian Naive Bayes\n",
    "説明変数が連続値の場合、これを正規分布に従うものとしてモデル化すると、モデルの構築や計算が楽にです。サンプルデータのアヤメのデータも連続値ですので、後ほどの、Gaussian Naive Bayesを利用します。\n",
    "\n",
    "p(x=v|c)=12πσ2c‾‾‾‾‾√e−(v−μc)22σ2c\n",
    " \n",
    "- Part 7: Scikit learnを使ったGaussian Naive Bayes"
   ]
  },
  {
   "cell_type": "code",
   "execution_count": 1,
   "metadata": {},
   "outputs": [],
   "source": [
    "import pandas as pd \n",
    "from pandas import Series,DataFrame\n",
    "import matplotlib.pyplot as plt\n",
    "import seaborn as sns\n",
    "\n",
    "from sklearn import datasets\n",
    "from sklearn import metrics\n",
    "from sklearn.naive_bayes import GaussianNB"
   ]
  },
  {
   "cell_type": "code",
   "execution_count": 2,
   "metadata": {},
   "outputs": [],
   "source": [
    "iris = datasets.load_iris()"
   ]
  },
  {
   "cell_type": "code",
   "execution_count": 3,
   "metadata": {},
   "outputs": [],
   "source": [
    "X = iris.data\n",
    "Y = iris.target"
   ]
  },
  {
   "cell_type": "code",
   "execution_count": 4,
   "metadata": {},
   "outputs": [],
   "source": [
    "model = GaussianNB()"
   ]
  },
  {
   "cell_type": "code",
   "execution_count": 5,
   "metadata": {},
   "outputs": [],
   "source": [
    "from sklearn.model_selection import train_test_split"
   ]
  },
  {
   "cell_type": "code",
   "execution_count": 6,
   "metadata": {},
   "outputs": [],
   "source": [
    "X_train, X_test, Y_train, Y_test = train_test_split(X,Y,random_state=0)"
   ]
  },
  {
   "cell_type": "code",
   "execution_count": 7,
   "metadata": {},
   "outputs": [
    {
     "data": {
      "text/plain": [
       "GaussianNB(priors=None, var_smoothing=1e-09)"
      ]
     },
     "execution_count": 7,
     "metadata": {},
     "output_type": "execute_result"
    }
   ],
   "source": [
    "model.fit(X_train,Y_train)"
   ]
  },
  {
   "cell_type": "code",
   "execution_count": 8,
   "metadata": {},
   "outputs": [],
   "source": [
    "predicted = model.predict(X_test)"
   ]
  },
  {
   "cell_type": "code",
   "execution_count": 9,
   "metadata": {},
   "outputs": [
    {
     "data": {
      "text/plain": [
       "array([2, 1, 0, 2, 0, 2, 0, 1, 1, 1, 2, 1, 1, 1, 1, 0, 1, 1, 0, 0, 2, 1,\n",
       "       0, 0, 2, 0, 0, 1, 1, 0, 2, 1, 0, 2, 2, 1, 0, 1])"
      ]
     },
     "execution_count": 9,
     "metadata": {},
     "output_type": "execute_result"
    }
   ],
   "source": [
    "predicted"
   ]
  },
  {
   "cell_type": "code",
   "execution_count": 10,
   "metadata": {},
   "outputs": [
    {
     "data": {
      "text/plain": [
       "1.0"
      ]
     },
     "execution_count": 10,
     "metadata": {},
     "output_type": "execute_result"
    }
   ],
   "source": [
    "metrics.accuracy_score(Y_test, predicted)"
   ]
  },
  {
   "cell_type": "markdown",
   "metadata": {},
   "source": [
    "ナイーブベイズ　\n",
    "文章の分類や、スパムメールの検出"
   ]
  },
  {
   "cell_type": "code",
   "execution_count": null,
   "metadata": {},
   "outputs": [],
   "source": []
  }
 ],
 "metadata": {
  "jupytext": {
   "text_representation": {
    "extension": ".py",
    "format_name": "light",
    "format_version": "1.3",
    "jupytext_version": "1.0.2"
   }
  },
  "kernelspec": {
   "display_name": "Python 3",
   "language": "python",
   "name": "python3"
  },
  "language_info": {
   "codemirror_mode": {
    "name": "ipython",
    "version": 3
   },
   "file_extension": ".py",
   "mimetype": "text/x-python",
   "name": "python",
   "nbconvert_exporter": "python",
   "pygments_lexer": "ipython3",
   "version": "3.7.1"
  },
  "toc": {
   "base_numbering": 1,
   "nav_menu": {},
   "number_sections": true,
   "sideBar": true,
   "skip_h1_title": false,
   "title_cell": "Table of Contents",
   "title_sidebar": "Contents",
   "toc_cell": false,
   "toc_position": {},
   "toc_section_display": true,
   "toc_window_display": false
  }
 },
 "nbformat": 4,
 "nbformat_minor": 2
}
