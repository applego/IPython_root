{
 "cells": [
  {
   "cell_type": "markdown",
   "metadata": {},
   "source": [
    "# 線形回帰（教師有り学習）\n",
    "ここから始まるレクチャーでは、線形回帰について学びます。 scikit-learnを使って、線形回帰のモデルを作り、新しいデータを使った予測を試みます。 サンプルデータは、アメリカの大都市ボストンの住宅価格です。初めは、1つだけの変数を使った単回帰をやってみます。\n",
    "\n",
    "線形回帰の数学的な背景に興味がある場合は、以下のサイトが参考になります。\n",
    "\n",
    "wikipedia（日本語）\n",
    "wikipedia（英語）\n",
    "Andrew Ngの動画（英語）もあります youtube.\n",
    "4回に分かれているレクチャーの概要です。\n",
    "\n",
    "Step 1: データの準備\n",
    "Step 2: ひとまず可視化\n",
    "\n",
    "Step 3: 最小二乗法の数学的な背景\n",
    "\n",
    "Step 4: Numpyを使った単回帰\n",
    "\n",
    "Step 5: 誤差について\n",
    "\n",
    "Step 6: scikit-learnを使った重回帰分析\n",
    "\n",
    "Step 7: 学習（Training）と検証Validation）\n",
    "\n",
    "Step 8: 価格の予測\n",
    "\n",
    "Step 9 : 残差プロット\n",
    "\n",
    "## Step 1: データの準備\n",
    "scikit-learnに用意されているサンプルデータを使います。"
   ]
  },
  {
   "cell_type": "code",
   "execution_count": 1,
   "metadata": {},
   "outputs": [],
   "source": [
    "import numpy as np\n",
    "import pandas as pd \n",
    "from pandas import Series,DataFrame\n",
    "\n",
    "import matplotlib.pyplot as plt\n",
    "import seaborn as sns\n",
    "sns.set_style('whitegrid')\n",
    "%matplotlib inline"
   ]
  },
  {
   "cell_type": "code",
   "execution_count": 2,
   "metadata": {},
   "outputs": [],
   "source": [
    "from sklearn.datasets import load_boston"
   ]
  },
  {
   "cell_type": "code",
   "execution_count": 3,
   "metadata": {},
   "outputs": [],
   "source": [
    "boston = load_boston()"
   ]
  },
  {
   "cell_type": "code",
   "execution_count": 4,
   "metadata": {},
   "outputs": [
    {
     "name": "stdout",
     "output_type": "stream",
     "text": [
      ".. _boston_dataset:\n",
      "\n",
      "Boston house prices dataset\n",
      "---------------------------\n",
      "\n",
      "**Data Set Characteristics:**  \n",
      "\n",
      "    :Number of Instances: 506 \n",
      "\n",
      "    :Number of Attributes: 13 numeric/categorical predictive. Median Value (attribute 14) is usually the target.\n",
      "\n",
      "    :Attribute Information (in order):\n",
      "        - CRIM     per capita crime rate by town\n",
      "        - ZN       proportion of residential land zoned for lots over 25,000 sq.ft.\n",
      "        - INDUS    proportion of non-retail business acres per town\n",
      "        - CHAS     Charles River dummy variable (= 1 if tract bounds river; 0 otherwise)\n",
      "        - NOX      nitric oxides concentration (parts per 10 million)\n",
      "        - RM       average number of rooms per dwelling\n",
      "        - AGE      proportion of owner-occupied units built prior to 1940\n",
      "        - DIS      weighted distances to five Boston employment centres\n",
      "        - RAD      index of accessibility to radial highways\n",
      "        - TAX      full-value property-tax rate per $10,000\n",
      "        - PTRATIO  pupil-teacher ratio by town\n",
      "        - B        1000(Bk - 0.63)^2 where Bk is the proportion of blacks by town\n",
      "        - LSTAT    % lower status of the population\n",
      "        - MEDV     Median value of owner-occupied homes in $1000's\n",
      "\n",
      "    :Missing Attribute Values: None\n",
      "\n",
      "    :Creator: Harrison, D. and Rubinfeld, D.L.\n",
      "\n",
      "This is a copy of UCI ML housing dataset.\n",
      "https://archive.ics.uci.edu/ml/machine-learning-databases/housing/\n",
      "\n",
      "\n",
      "This dataset was taken from the StatLib library which is maintained at Carnegie Mellon University.\n",
      "\n",
      "The Boston house-price data of Harrison, D. and Rubinfeld, D.L. 'Hedonic\n",
      "prices and the demand for clean air', J. Environ. Economics & Management,\n",
      "vol.5, 81-102, 1978.   Used in Belsley, Kuh & Welsch, 'Regression diagnostics\n",
      "...', Wiley, 1980.   N.B. Various transformations are used in the table on\n",
      "pages 244-261 of the latter.\n",
      "\n",
      "The Boston house-price data has been used in many machine learning papers that address regression\n",
      "problems.   \n",
      "     \n",
      ".. topic:: References\n",
      "\n",
      "   - Belsley, Kuh & Welsch, 'Regression diagnostics: Identifying Influential Data and Sources of Collinearity', Wiley, 1980. 244-261.\n",
      "   - Quinlan,R. (1993). Combining Instance-Based and Model-Based Learning. In Proceedings on the Tenth International Conference of Machine Learning, 236-243, University of Massachusetts, Amherst. Morgan Kaufmann.\n",
      "\n"
     ]
    }
   ],
   "source": [
    "print(boston.DESCR) #Description"
   ]
  },
  {
   "cell_type": "code",
   "execution_count": 5,
   "metadata": {},
   "outputs": [
    {
     "data": {
      "text/plain": [
       "Text(0, 0.5, 'Number of houses')"
      ]
     },
     "execution_count": 5,
     "metadata": {},
     "output_type": "execute_result"
    },
    {
     "data": {
      "image/png": "[encoded data removed]",
      "text/plain": [
       "<Figure size 432x288 with 1 Axes>"
      ]
     },
     "metadata": {
      "needs_background": "light"
     },
     "output_type": "display_data"
    }
   ],
   "source": [
    "plt.hist(boston.target, bins=50)\n",
    "plt.xlabel('Price($1,000)')\n",
    "plt.ylabel('Number of houses')"
   ]
  },
  {
   "cell_type": "code",
   "execution_count": 8,
   "metadata": {},
   "outputs": [
    {
     "data": {
      "text/plain": [
       "Text(0, 0.5, 'Number of rooms')"
      ]
     },
     "execution_count": 8,
     "metadata": {},
     "output_type": "execute_result"
    },
    {
     "data": {
      "image/png": "[encoded data removed]",
      "text/plain": [
       "<Figure size 432x288 with 1 Axes>"
      ]
     },
     "metadata": {
      "needs_background": "light"
     },
     "output_type": "display_data"
    }
   ],
   "source": [
    "plt.scatter(boston.data[:,5], boston.target) #RMと価格\n",
    "plt.xlabel('Price($1,000)')\n",
    "plt.ylabel('Number of rooms')"
   ]
  },
  {
   "cell_type": "code",
   "execution_count": 9,
   "metadata": {},
   "outputs": [],
   "source": [
    "boston_df = DataFrame(boston.data)\n",
    "boston_df.columns = boston.feature_names"
   ]
  },
  {
   "cell_type": "code",
   "execution_count": 10,
   "metadata": {},
   "outputs": [
    {
     "data": {
      "text/html": [
       "<div>\n",
       "<style scoped>\n",
       "    .dataframe tbody tr th:only-of-type {\n",
       "        vertical-align: middle;\n",
       "    }\n",
       "\n",
       "    .dataframe tbody tr th {\n",
       "        vertical-align: top;\n",
       "    }\n",
       "\n",
       "    .dataframe thead th {\n",
       "        text-align: right;\n",
       "    }\n",
       "</style>\n",
       "<table border=\"1\" class=\"dataframe\">\n",
       "  <thead>\n",
       "    <tr style=\"text-align: right;\">\n",
       "      <th></th>\n",
       "      <th>CRIM</th>\n",
       "      <th>ZN</th>\n",
       "      <th>INDUS</th>\n",
       "      <th>CHAS</th>\n",
       "      <th>NOX</th>\n",
       "      <th>RM</th>\n",
       "      <th>AGE</th>\n",
       "      <th>DIS</th>\n",
       "      <th>RAD</th>\n",
       "      <th>TAX</th>\n",
       "      <th>PTRATIO</th>\n",
       "      <th>B</th>\n",
       "      <th>LSTAT</th>\n",
       "    </tr>\n",
       "  </thead>\n",
       "  <tbody>\n",
       "    <tr>\n",
       "      <th>0</th>\n",
       "      <td>0.00632</td>\n",
       "      <td>18.0</td>\n",
       "      <td>2.31</td>\n",
       "      <td>0.0</td>\n",
       "      <td>0.538</td>\n",
       "      <td>6.575</td>\n",
       "      <td>65.2</td>\n",
       "      <td>4.0900</td>\n",
       "      <td>1.0</td>\n",
       "      <td>296.0</td>\n",
       "      <td>15.3</td>\n",
       "      <td>396.90</td>\n",
       "      <td>4.98</td>\n",
       "    </tr>\n",
       "    <tr>\n",
       "      <th>1</th>\n",
       "      <td>0.02731</td>\n",
       "      <td>0.0</td>\n",
       "      <td>7.07</td>\n",
       "      <td>0.0</td>\n",
       "      <td>0.469</td>\n",
       "      <td>6.421</td>\n",
       "      <td>78.9</td>\n",
       "      <td>4.9671</td>\n",
       "      <td>2.0</td>\n",
       "      <td>242.0</td>\n",
       "      <td>17.8</td>\n",
       "      <td>396.90</td>\n",
       "      <td>9.14</td>\n",
       "    </tr>\n",
       "    <tr>\n",
       "      <th>2</th>\n",
       "      <td>0.02729</td>\n",
       "      <td>0.0</td>\n",
       "      <td>7.07</td>\n",
       "      <td>0.0</td>\n",
       "      <td>0.469</td>\n",
       "      <td>7.185</td>\n",
       "      <td>61.1</td>\n",
       "      <td>4.9671</td>\n",
       "      <td>2.0</td>\n",
       "      <td>242.0</td>\n",
       "      <td>17.8</td>\n",
       "      <td>392.83</td>\n",
       "      <td>4.03</td>\n",
       "    </tr>\n",
       "    <tr>\n",
       "      <th>3</th>\n",
       "      <td>0.03237</td>\n",
       "      <td>0.0</td>\n",
       "      <td>2.18</td>\n",
       "      <td>0.0</td>\n",
       "      <td>0.458</td>\n",
       "      <td>6.998</td>\n",
       "      <td>45.8</td>\n",
       "      <td>6.0622</td>\n",
       "      <td>3.0</td>\n",
       "      <td>222.0</td>\n",
       "      <td>18.7</td>\n",
       "      <td>394.63</td>\n",
       "      <td>2.94</td>\n",
       "    </tr>\n",
       "    <tr>\n",
       "      <th>4</th>\n",
       "      <td>0.06905</td>\n",
       "      <td>0.0</td>\n",
       "      <td>2.18</td>\n",
       "      <td>0.0</td>\n",
       "      <td>0.458</td>\n",
       "      <td>7.147</td>\n",
       "      <td>54.2</td>\n",
       "      <td>6.0622</td>\n",
       "      <td>3.0</td>\n",
       "      <td>222.0</td>\n",
       "      <td>18.7</td>\n",
       "      <td>396.90</td>\n",
       "      <td>5.33</td>\n",
       "    </tr>\n",
       "  </tbody>\n",
       "</table>\n",
       "</div>"
      ],
      "text/plain": [
       "      CRIM    ZN  INDUS  CHAS    NOX  ...    RAD    TAX  PTRATIO       B  LSTAT\n",
       "0  0.00632  18.0   2.31   0.0  0.538  ...    1.0  296.0     15.3  396.90   4.98\n",
       "1  0.02731   0.0   7.07   0.0  0.469  ...    2.0  242.0     17.8  396.90   9.14\n",
       "2  0.02729   0.0   7.07   0.0  0.469  ...    2.0  242.0     17.8  392.83   4.03\n",
       "3  0.03237   0.0   2.18   0.0  0.458  ...    3.0  222.0     18.7  394.63   2.94\n",
       "4  0.06905   0.0   2.18   0.0  0.458  ...    3.0  222.0     18.7  396.90   5.33\n",
       "\n",
       "[5 rows x 13 columns]"
      ]
     },
     "execution_count": 10,
     "metadata": {},
     "output_type": "execute_result"
    }
   ],
   "source": [
    "boston_df.head()"
   ]
  },
  {
   "cell_type": "code",
   "execution_count": 11,
   "metadata": {},
   "outputs": [],
   "source": [
    "boston_df['Price'] = boston.target"
   ]
  },
  {
   "cell_type": "code",
   "execution_count": 12,
   "metadata": {},
   "outputs": [
    {
     "data": {
      "text/html": [
       "<div>\n",
       "<style scoped>\n",
       "    .dataframe tbody tr th:only-of-type {\n",
       "        vertical-align: middle;\n",
       "    }\n",
       "\n",
       "    .dataframe tbody tr th {\n",
       "        vertical-align: top;\n",
       "    }\n",
       "\n",
       "    .dataframe thead th {\n",
       "        text-align: right;\n",
       "    }\n",
       "</style>\n",
       "<table border=\"1\" class=\"dataframe\">\n",
       "  <thead>\n",
       "    <tr style=\"text-align: right;\">\n",
       "      <th></th>\n",
       "      <th>CRIM</th>\n",
       "      <th>ZN</th>\n",
       "      <th>INDUS</th>\n",
       "      <th>CHAS</th>\n",
       "      <th>NOX</th>\n",
       "      <th>RM</th>\n",
       "      <th>AGE</th>\n",
       "      <th>DIS</th>\n",
       "      <th>RAD</th>\n",
       "      <th>TAX</th>\n",
       "      <th>PTRATIO</th>\n",
       "      <th>B</th>\n",
       "      <th>LSTAT</th>\n",
       "      <th>Price</th>\n",
       "    </tr>\n",
       "  </thead>\n",
       "  <tbody>\n",
       "    <tr>\n",
       "      <th>0</th>\n",
       "      <td>0.00632</td>\n",
       "      <td>18.0</td>\n",
       "      <td>2.31</td>\n",
       "      <td>0.0</td>\n",
       "      <td>0.538</td>\n",
       "      <td>6.575</td>\n",
       "      <td>65.2</td>\n",
       "      <td>4.0900</td>\n",
       "      <td>1.0</td>\n",
       "      <td>296.0</td>\n",
       "      <td>15.3</td>\n",
       "      <td>396.90</td>\n",
       "      <td>4.98</td>\n",
       "      <td>24.0</td>\n",
       "    </tr>\n",
       "    <tr>\n",
       "      <th>1</th>\n",
       "      <td>0.02731</td>\n",
       "      <td>0.0</td>\n",
       "      <td>7.07</td>\n",
       "      <td>0.0</td>\n",
       "      <td>0.469</td>\n",
       "      <td>6.421</td>\n",
       "      <td>78.9</td>\n",
       "      <td>4.9671</td>\n",
       "      <td>2.0</td>\n",
       "      <td>242.0</td>\n",
       "      <td>17.8</td>\n",
       "      <td>396.90</td>\n",
       "      <td>9.14</td>\n",
       "      <td>21.6</td>\n",
       "    </tr>\n",
       "    <tr>\n",
       "      <th>2</th>\n",
       "      <td>0.02729</td>\n",
       "      <td>0.0</td>\n",
       "      <td>7.07</td>\n",
       "      <td>0.0</td>\n",
       "      <td>0.469</td>\n",
       "      <td>7.185</td>\n",
       "      <td>61.1</td>\n",
       "      <td>4.9671</td>\n",
       "      <td>2.0</td>\n",
       "      <td>242.0</td>\n",
       "      <td>17.8</td>\n",
       "      <td>392.83</td>\n",
       "      <td>4.03</td>\n",
       "      <td>34.7</td>\n",
       "    </tr>\n",
       "    <tr>\n",
       "      <th>3</th>\n",
       "      <td>0.03237</td>\n",
       "      <td>0.0</td>\n",
       "      <td>2.18</td>\n",
       "      <td>0.0</td>\n",
       "      <td>0.458</td>\n",
       "      <td>6.998</td>\n",
       "      <td>45.8</td>\n",
       "      <td>6.0622</td>\n",
       "      <td>3.0</td>\n",
       "      <td>222.0</td>\n",
       "      <td>18.7</td>\n",
       "      <td>394.63</td>\n",
       "      <td>2.94</td>\n",
       "      <td>33.4</td>\n",
       "    </tr>\n",
       "    <tr>\n",
       "      <th>4</th>\n",
       "      <td>0.06905</td>\n",
       "      <td>0.0</td>\n",
       "      <td>2.18</td>\n",
       "      <td>0.0</td>\n",
       "      <td>0.458</td>\n",
       "      <td>7.147</td>\n",
       "      <td>54.2</td>\n",
       "      <td>6.0622</td>\n",
       "      <td>3.0</td>\n",
       "      <td>222.0</td>\n",
       "      <td>18.7</td>\n",
       "      <td>396.90</td>\n",
       "      <td>5.33</td>\n",
       "      <td>36.2</td>\n",
       "    </tr>\n",
       "  </tbody>\n",
       "</table>\n",
       "</div>"
      ],
      "text/plain": [
       "      CRIM    ZN  INDUS  CHAS  ...    PTRATIO       B  LSTAT  Price\n",
       "0  0.00632  18.0   2.31   0.0  ...       15.3  396.90   4.98   24.0\n",
       "1  0.02731   0.0   7.07   0.0  ...       17.8  396.90   9.14   21.6\n",
       "2  0.02729   0.0   7.07   0.0  ...       17.8  392.83   4.03   34.7\n",
       "3  0.03237   0.0   2.18   0.0  ...       18.7  394.63   2.94   33.4\n",
       "4  0.06905   0.0   2.18   0.0  ...       18.7  396.90   5.33   36.2\n",
       "\n",
       "[5 rows x 14 columns]"
      ]
     },
     "execution_count": 12,
     "metadata": {},
     "output_type": "execute_result"
    }
   ],
   "source": [
    "boston_df.head()"
   ]
  },
  {
   "cell_type": "code",
   "execution_count": 13,
   "metadata": {},
   "outputs": [
    {
     "name": "stderr",
     "output_type": "stream",
     "text": [
      "/Users/tokoshige_mac/anaconda3/lib/python3.7/site-packages/scipy/stats/stats.py:1713: FutureWarning: Using a non-tuple sequence for multidimensional indexing is deprecated; use `arr[tuple(seq)]` instead of `arr[seq]`. In the future this will be interpreted as an array index, `arr[np.array(seq)]`, which will result either in an error or a different result.\n",
      "  return np.add.reduce(sorted[indexer] * weights, axis=axis) / sumval\n"
     ]
    },
    {
     "data": {
      "text/plain": [
       "<seaborn.axisgrid.FacetGrid at 0x1a221f7a90>"
      ]
     },
     "execution_count": 13,
     "metadata": {},
     "output_type": "execute_result"
    },
    {
     "data": {
      "image/png": "[encoded data removed]",
      "text/plain": [
       "<Figure size 360x360 with 1 Axes>"
      ]
     },
     "metadata": {
      "needs_background": "light"
     },
     "output_type": "display_data"
    }
   ],
   "source": [
    "sns.lmplot('RM', 'Price', data=boston_df)"
   ]
  },
  {
   "cell_type": "markdown",
   "metadata": {},
   "source": [
    "# 線形回帰その２\n",
    "\n",
    "## Step 3: 最小二乗法の数学的な背景\n",
    "回帰直線の係数を求めるのに使われる、「最小二乗法」について、すこし数学的になりますが、その背景を説明します。\n",
    "\n",
    "回帰直線は、データ全体にうまく適合するように、描かれています。各点から、回帰直線への距離をDとしてみましょう。このDを最小にすれば良いわけです。このイメージを図にしてみます。"
   ]
  },
  {
   "cell_type": "code",
   "execution_count": 14,
   "metadata": {},
   "outputs": [
    {
     "data": {
      "image/png": "[encoded data removed]",
      "text/plain": [
       "<IPython.core.display.Image object>"
      ]
     },
     "execution_count": 14,
     "metadata": {},
     "output_type": "execute_result"
    }
   ],
   "source": [
    "# wikipediaから拝借します。\n",
    "from IPython.display import Image\n",
    "url = 'http://upload.wikimedia.org/wikipedia/commons/thumb/b/b0/Linear_least_squares_example2.svg/220px-Linear_least_squares_example2.svg.png'\n",
    "Image(url)"
   ]
  },
  {
   "cell_type": "markdown",
   "metadata": {},
   "source": [
    "各点（赤）の座標は、(x, y)です。ここから、回帰直線（青線）への距離をDとすると、以下の値を最小にする直線が一番よさそうです。\n",
    "\n",
    "d=D21+D22+D23+D24+....+D2N\n",
    " \n",
    "直線の式は、\n",
    "\n",
    "y=ax+b\n",
    " \n",
    "で表現されます。いま、 a と b を求めたいのですが、これはdを最小にする a と b を見つけ出すという問題と同じです。\n",
    "\n",
    "この問題はもちろん、手で計算することで解くことができますが、ここではこの計算をNumpyやscikit-leranにお任せします。 もし数学的な計算方法に興味がある方は、こちらが大変参考になります。\n",
    "\n",
    "## Step 4: Numpyを使った単回帰\n",
    "Numpyは線形代数のライブラリの一部に、最小二乗法を解く関数を持っています。 まずはこれを使って、単回帰(説明変数が1つ）をやってみます。その後、scikit-learnを使って、重回帰（説明変数が複数）に進んで行きましょう。\n",
    "\n",
    "入力として、2つのarray（XとY）を用意します。\n",
    "\n",
    "Yは目的変数なので1次元のarrayですが、Xは2次元のarrayで、行がサンプル、列が説明変数です。単回帰の場合は、列が1つになりますですので、そのshapeは、(506,1)です。これを作るには、いくつか方法がありますが、ここでは、vstackを使ってみます。"
   ]
  },
  {
   "cell_type": "code",
   "execution_count": 28,
   "metadata": {},
   "outputs": [
    {
     "name": "stdout",
     "output_type": "stream",
     "text": [
      "(506,)\n"
     ]
    }
   ],
   "source": [
    "# 部屋数\n",
    "X = boston_df.RM\n",
    "print(X.shape)"
   ]
  },
  {
   "cell_type": "code",
   "execution_count": 29,
   "metadata": {
    "scrolled": true
   },
   "outputs": [
    {
     "data": {
      "text/plain": [
       "0      6.575\n",
       "1      6.421\n",
       "2      7.185\n",
       "3      6.998\n",
       "4      7.147\n",
       "5      6.430\n",
       "6      6.012\n",
       "7      6.172\n",
       "8      5.631\n",
       "9      6.004\n",
       "10     6.377\n",
       "11     6.009\n",
       "12     5.889\n",
       "13     5.949\n",
       "14     6.096\n",
       "15     5.834\n",
       "16     5.935\n",
       "17     5.990\n",
       "18     5.456\n",
       "19     5.727\n",
       "20     5.570\n",
       "21     5.965\n",
       "22     6.142\n",
       "23     5.813\n",
       "24     5.924\n",
       "25     5.599\n",
       "26     5.813\n",
       "27     6.047\n",
       "28     6.495\n",
       "29     6.674\n",
       "       ...  \n",
       "476    6.484\n",
       "477    5.304\n",
       "478    6.185\n",
       "479    6.229\n",
       "480    6.242\n",
       "481    6.750\n",
       "482    7.061\n",
       "483    5.762\n",
       "484    5.871\n",
       "485    6.312\n",
       "486    6.114\n",
       "487    5.905\n",
       "488    5.454\n",
       "489    5.414\n",
       "490    5.093\n",
       "491    5.983\n",
       "492    5.983\n",
       "493    5.707\n",
       "494    5.926\n",
       "495    5.670\n",
       "496    5.390\n",
       "497    5.794\n",
       "498    6.019\n",
       "499    5.569\n",
       "500    6.027\n",
       "501    6.593\n",
       "502    6.120\n",
       "503    6.976\n",
       "504    6.794\n",
       "505    6.030\n",
       "Name: RM, Length: 506, dtype: float64"
      ]
     },
     "execution_count": 29,
     "metadata": {},
     "output_type": "execute_result"
    }
   ],
   "source": [
    "X"
   ]
  },
  {
   "cell_type": "code",
   "execution_count": 30,
   "metadata": {},
   "outputs": [
    {
     "name": "stdout",
     "output_type": "stream",
     "text": [
      "(506, 1)\n"
     ]
    }
   ],
   "source": [
    "# これを2次元のarrayにします。\n",
    "X = np.vstack(boston_df.RM)\n",
    "print(X.shape)"
   ]
  },
  {
   "cell_type": "code",
   "execution_count": 31,
   "metadata": {
    "scrolled": true
   },
   "outputs": [
    {
     "data": {
      "text/plain": [
       "array([[6.575],\n",
       "       [6.421],\n",
       "       [7.185],\n",
       "       [6.998],\n",
       "       [7.147],\n",
       "       [6.43 ],\n",
       "       [6.012],\n",
       "       [6.172],\n",
       "       [5.631],\n",
       "       [6.004],\n",
       "       [6.377],\n",
       "       [6.009],\n",
       "       [5.889],\n",
       "       [5.949],\n",
       "       [6.096],\n",
       "       [5.834],\n",
       "       [5.935],\n",
       "       [5.99 ],\n",
       "       [5.456],\n",
       "       [5.727],\n",
       "       [5.57 ],\n",
       "       [5.965],\n",
       "       [6.142],\n",
       "       [5.813],\n",
       "       [5.924],\n",
       "       [5.599],\n",
       "       [5.813],\n",
       "       [6.047],\n",
       "       [6.495],\n",
       "       [6.674],\n",
       "       [5.713],\n",
       "       [6.072],\n",
       "       [5.95 ],\n",
       "       [5.701],\n",
       "       [6.096],\n",
       "       [5.933],\n",
       "       [5.841],\n",
       "       [5.85 ],\n",
       "       [5.966],\n",
       "       [6.595],\n",
       "       [7.024],\n",
       "       [6.77 ],\n",
       "       [6.169],\n",
       "       [6.211],\n",
       "       [6.069],\n",
       "       [5.682],\n",
       "       [5.786],\n",
       "       [6.03 ],\n",
       "       [5.399],\n",
       "       [5.602],\n",
       "       [5.963],\n",
       "       [6.115],\n",
       "       [6.511],\n",
       "       [5.998],\n",
       "       [5.888],\n",
       "       [7.249],\n",
       "       [6.383],\n",
       "       [6.816],\n",
       "       [6.145],\n",
       "       [5.927],\n",
       "       [5.741],\n",
       "       [5.966],\n",
       "       [6.456],\n",
       "       [6.762],\n",
       "       [7.104],\n",
       "       [6.29 ],\n",
       "       [5.787],\n",
       "       [5.878],\n",
       "       [5.594],\n",
       "       [5.885],\n",
       "       [6.417],\n",
       "       [5.961],\n",
       "       [6.065],\n",
       "       [6.245],\n",
       "       [6.273],\n",
       "       [6.286],\n",
       "       [6.279],\n",
       "       [6.14 ],\n",
       "       [6.232],\n",
       "       [5.874],\n",
       "       [6.727],\n",
       "       [6.619],\n",
       "       [6.302],\n",
       "       [6.167],\n",
       "       [6.389],\n",
       "       [6.63 ],\n",
       "       [6.015],\n",
       "       [6.121],\n",
       "       [7.007],\n",
       "       [7.079],\n",
       "       [6.417],\n",
       "       [6.405],\n",
       "       [6.442],\n",
       "       [6.211],\n",
       "       [6.249],\n",
       "       [6.625],\n",
       "       [6.163],\n",
       "       [8.069],\n",
       "       [7.82 ],\n",
       "       [7.416],\n",
       "       [6.727],\n",
       "       [6.781],\n",
       "       [6.405],\n",
       "       [6.137],\n",
       "       [6.167],\n",
       "       [5.851],\n",
       "       [5.836],\n",
       "       [6.127],\n",
       "       [6.474],\n",
       "       [6.229],\n",
       "       [6.195],\n",
       "       [6.715],\n",
       "       [5.913],\n",
       "       [6.092],\n",
       "       [6.254],\n",
       "       [5.928],\n",
       "       [6.176],\n",
       "       [6.021],\n",
       "       [5.872],\n",
       "       [5.731],\n",
       "       [5.87 ],\n",
       "       [6.004],\n",
       "       [5.961],\n",
       "       [5.856],\n",
       "       [5.879],\n",
       "       [5.986],\n",
       "       [5.613],\n",
       "       [5.693],\n",
       "       [6.431],\n",
       "       [5.637],\n",
       "       [6.458],\n",
       "       [6.326],\n",
       "       [6.372],\n",
       "       [5.822],\n",
       "       [5.757],\n",
       "       [6.335],\n",
       "       [5.942],\n",
       "       [6.454],\n",
       "       [5.857],\n",
       "       [6.151],\n",
       "       [6.174],\n",
       "       [5.019],\n",
       "       [5.403],\n",
       "       [5.468],\n",
       "       [4.903],\n",
       "       [6.13 ],\n",
       "       [5.628],\n",
       "       [4.926],\n",
       "       [5.186],\n",
       "       [5.597],\n",
       "       [6.122],\n",
       "       [5.404],\n",
       "       [5.012],\n",
       "       [5.709],\n",
       "       [6.129],\n",
       "       [6.152],\n",
       "       [5.272],\n",
       "       [6.943],\n",
       "       [6.066],\n",
       "       [6.51 ],\n",
       "       [6.25 ],\n",
       "       [7.489],\n",
       "       [7.802],\n",
       "       [8.375],\n",
       "       [5.854],\n",
       "       [6.101],\n",
       "       [7.929],\n",
       "       [5.877],\n",
       "       [6.319],\n",
       "       [6.402],\n",
       "       [5.875],\n",
       "       [5.88 ],\n",
       "       [5.572],\n",
       "       [6.416],\n",
       "       [5.859],\n",
       "       [6.546],\n",
       "       [6.02 ],\n",
       "       [6.315],\n",
       "       [6.86 ],\n",
       "       [6.98 ],\n",
       "       [7.765],\n",
       "       [6.144],\n",
       "       [7.155],\n",
       "       [6.563],\n",
       "       [5.604],\n",
       "       [6.153],\n",
       "       [7.831],\n",
       "       [6.782],\n",
       "       [6.556],\n",
       "       [7.185],\n",
       "       [6.951],\n",
       "       [6.739],\n",
       "       [7.178],\n",
       "       [6.8  ],\n",
       "       [6.604],\n",
       "       [7.875],\n",
       "       [7.287],\n",
       "       [7.107],\n",
       "       [7.274],\n",
       "       [6.975],\n",
       "       [7.135],\n",
       "       [6.162],\n",
       "       [7.61 ],\n",
       "       [7.853],\n",
       "       [8.034],\n",
       "       [5.891],\n",
       "       [6.326],\n",
       "       [5.783],\n",
       "       [6.064],\n",
       "       [5.344],\n",
       "       [5.96 ],\n",
       "       [5.404],\n",
       "       [5.807],\n",
       "       [6.375],\n",
       "       [5.412],\n",
       "       [6.182],\n",
       "       [5.888],\n",
       "       [6.642],\n",
       "       [5.951],\n",
       "       [6.373],\n",
       "       [6.951],\n",
       "       [6.164],\n",
       "       [6.879],\n",
       "       [6.618],\n",
       "       [8.266],\n",
       "       [8.725],\n",
       "       [8.04 ],\n",
       "       [7.163],\n",
       "       [7.686],\n",
       "       [6.552],\n",
       "       [5.981],\n",
       "       [7.412],\n",
       "       [8.337],\n",
       "       [8.247],\n",
       "       [6.726],\n",
       "       [6.086],\n",
       "       [6.631],\n",
       "       [7.358],\n",
       "       [6.481],\n",
       "       [6.606],\n",
       "       [6.897],\n",
       "       [6.095],\n",
       "       [6.358],\n",
       "       [6.393],\n",
       "       [5.593],\n",
       "       [5.605],\n",
       "       [6.108],\n",
       "       [6.226],\n",
       "       [6.433],\n",
       "       [6.718],\n",
       "       [6.487],\n",
       "       [6.438],\n",
       "       [6.957],\n",
       "       [8.259],\n",
       "       [6.108],\n",
       "       [5.876],\n",
       "       [7.454],\n",
       "       [8.704],\n",
       "       [7.333],\n",
       "       [6.842],\n",
       "       [7.203],\n",
       "       [7.52 ],\n",
       "       [8.398],\n",
       "       [7.327],\n",
       "       [7.206],\n",
       "       [5.56 ],\n",
       "       [7.014],\n",
       "       [8.297],\n",
       "       [7.47 ],\n",
       "       [5.92 ],\n",
       "       [5.856],\n",
       "       [6.24 ],\n",
       "       [6.538],\n",
       "       [7.691],\n",
       "       [6.758],\n",
       "       [6.854],\n",
       "       [7.267],\n",
       "       [6.826],\n",
       "       [6.482],\n",
       "       [6.812],\n",
       "       [7.82 ],\n",
       "       [6.968],\n",
       "       [7.645],\n",
       "       [7.923],\n",
       "       [7.088],\n",
       "       [6.453],\n",
       "       [6.23 ],\n",
       "       [6.209],\n",
       "       [6.315],\n",
       "       [6.565],\n",
       "       [6.861],\n",
       "       [7.148],\n",
       "       [6.63 ],\n",
       "       [6.127],\n",
       "       [6.009],\n",
       "       [6.678],\n",
       "       [6.549],\n",
       "       [5.79 ],\n",
       "       [6.345],\n",
       "       [7.041],\n",
       "       [6.871],\n",
       "       [6.59 ],\n",
       "       [6.495],\n",
       "       [6.982],\n",
       "       [7.236],\n",
       "       [6.616],\n",
       "       [7.42 ],\n",
       "       [6.849],\n",
       "       [6.635],\n",
       "       [5.972],\n",
       "       [4.973],\n",
       "       [6.122],\n",
       "       [6.023],\n",
       "       [6.266],\n",
       "       [6.567],\n",
       "       [5.705],\n",
       "       [5.914],\n",
       "       [5.782],\n",
       "       [6.382],\n",
       "       [6.113],\n",
       "       [6.426],\n",
       "       [6.376],\n",
       "       [6.041],\n",
       "       [5.708],\n",
       "       [6.415],\n",
       "       [6.431],\n",
       "       [6.312],\n",
       "       [6.083],\n",
       "       [5.868],\n",
       "       [6.333],\n",
       "       [6.144],\n",
       "       [5.706],\n",
       "       [6.031],\n",
       "       [6.316],\n",
       "       [6.31 ],\n",
       "       [6.037],\n",
       "       [5.869],\n",
       "       [5.895],\n",
       "       [6.059],\n",
       "       [5.985],\n",
       "       [5.968],\n",
       "       [7.241],\n",
       "       [6.54 ],\n",
       "       [6.696],\n",
       "       [6.874],\n",
       "       [6.014],\n",
       "       [5.898],\n",
       "       [6.516],\n",
       "       [6.635],\n",
       "       [6.939],\n",
       "       [6.49 ],\n",
       "       [6.579],\n",
       "       [5.884],\n",
       "       [6.728],\n",
       "       [5.663],\n",
       "       [5.936],\n",
       "       [6.212],\n",
       "       [6.395],\n",
       "       [6.127],\n",
       "       [6.112],\n",
       "       [6.398],\n",
       "       [6.251],\n",
       "       [5.362],\n",
       "       [5.803],\n",
       "       [8.78 ],\n",
       "       [3.561],\n",
       "       [4.963],\n",
       "       [3.863],\n",
       "       [4.97 ],\n",
       "       [6.683],\n",
       "       [7.016],\n",
       "       [6.216],\n",
       "       [5.875],\n",
       "       [4.906],\n",
       "       [4.138],\n",
       "       [7.313],\n",
       "       [6.649],\n",
       "       [6.794],\n",
       "       [6.38 ],\n",
       "       [6.223],\n",
       "       [6.968],\n",
       "       [6.545],\n",
       "       [5.536],\n",
       "       [5.52 ],\n",
       "       [4.368],\n",
       "       [5.277],\n",
       "       [4.652],\n",
       "       [5.   ],\n",
       "       [4.88 ],\n",
       "       [5.39 ],\n",
       "       [5.713],\n",
       "       [6.051],\n",
       "       [5.036],\n",
       "       [6.193],\n",
       "       [5.887],\n",
       "       [6.471],\n",
       "       [6.405],\n",
       "       [5.747],\n",
       "       [5.453],\n",
       "       [5.852],\n",
       "       [5.987],\n",
       "       [6.343],\n",
       "       [6.404],\n",
       "       [5.349],\n",
       "       [5.531],\n",
       "       [5.683],\n",
       "       [4.138],\n",
       "       [5.608],\n",
       "       [5.617],\n",
       "       [6.852],\n",
       "       [5.757],\n",
       "       [6.657],\n",
       "       [4.628],\n",
       "       [5.155],\n",
       "       [4.519],\n",
       "       [6.434],\n",
       "       [6.782],\n",
       "       [5.304],\n",
       "       [5.957],\n",
       "       [6.824],\n",
       "       [6.411],\n",
       "       [6.006],\n",
       "       [5.648],\n",
       "       [6.103],\n",
       "       [5.565],\n",
       "       [5.896],\n",
       "       [5.837],\n",
       "       [6.202],\n",
       "       [6.193],\n",
       "       [6.38 ],\n",
       "       [6.348],\n",
       "       [6.833],\n",
       "       [6.425],\n",
       "       [6.436],\n",
       "       [6.208],\n",
       "       [6.629],\n",
       "       [6.461],\n",
       "       [6.152],\n",
       "       [5.935],\n",
       "       [5.627],\n",
       "       [5.818],\n",
       "       [6.406],\n",
       "       [6.219],\n",
       "       [6.485],\n",
       "       [5.854],\n",
       "       [6.459],\n",
       "       [6.341],\n",
       "       [6.251],\n",
       "       [6.185],\n",
       "       [6.417],\n",
       "       [6.749],\n",
       "       [6.655],\n",
       "       [6.297],\n",
       "       [7.393],\n",
       "       [6.728],\n",
       "       [6.525],\n",
       "       [5.976],\n",
       "       [5.936],\n",
       "       [6.301],\n",
       "       [6.081],\n",
       "       [6.701],\n",
       "       [6.376],\n",
       "       [6.317],\n",
       "       [6.513],\n",
       "       [6.209],\n",
       "       [5.759],\n",
       "       [5.952],\n",
       "       [6.003],\n",
       "       [5.926],\n",
       "       [5.713],\n",
       "       [6.167],\n",
       "       [6.229],\n",
       "       [6.437],\n",
       "       [6.98 ],\n",
       "       [5.427],\n",
       "       [6.162],\n",
       "       [6.484],\n",
       "       [5.304],\n",
       "       [6.185],\n",
       "       [6.229],\n",
       "       [6.242],\n",
       "       [6.75 ],\n",
       "       [7.061],\n",
       "       [5.762],\n",
       "       [5.871],\n",
       "       [6.312],\n",
       "       [6.114],\n",
       "       [5.905],\n",
       "       [5.454],\n",
       "       [5.414],\n",
       "       [5.093],\n",
       "       [5.983],\n",
       "       [5.983],\n",
       "       [5.707],\n",
       "       [5.926],\n",
       "       [5.67 ],\n",
       "       [5.39 ],\n",
       "       [5.794],\n",
       "       [6.019],\n",
       "       [5.569],\n",
       "       [6.027],\n",
       "       [6.593],\n",
       "       [6.12 ],\n",
       "       [6.976],\n",
       "       [6.794],\n",
       "       [6.03 ]])"
      ]
     },
     "execution_count": 31,
     "metadata": {},
     "output_type": "execute_result"
    }
   ],
   "source": [
    "X"
   ]
  },
  {
   "cell_type": "code",
   "execution_count": 37,
   "metadata": {},
   "outputs": [
    {
     "name": "stdout",
     "output_type": "stream",
     "text": [
      "(506,)\n"
     ]
    }
   ],
   "source": [
    "Y = boston_df.Price\n",
    "print(Y.shape)"
   ]
  },
  {
   "cell_type": "code",
   "execution_count": 40,
   "metadata": {},
   "outputs": [
    {
     "data": {
      "text/plain": [
       "pandas.core.series.Series"
      ]
     },
     "execution_count": 40,
     "metadata": {},
     "output_type": "execute_result"
    }
   ],
   "source": [
    "type(Y)"
   ]
  },
  {
   "cell_type": "code",
   "execution_count": 33,
   "metadata": {},
   "outputs": [],
   "source": [
    "#変形\n",
    "#リスト内包記\n",
    "X = np.array([ [value, 1] for value in X])"
   ]
  },
  {
   "cell_type": "code",
   "execution_count": 39,
   "metadata": {},
   "outputs": [
    {
     "data": {
      "text/plain": [
       "dtype('O')"
      ]
     },
     "execution_count": 39,
     "metadata": {},
     "output_type": "execute_result"
    }
   ],
   "source": [
    "X.dtype"
   ]
  },
  {
   "cell_type": "code",
   "execution_count": 35,
   "metadata": {},
   "outputs": [
    {
     "data": {
      "text/plain": [
       "numpy.ndarray"
      ]
     },
     "execution_count": 35,
     "metadata": {},
     "output_type": "execute_result"
    }
   ],
   "source": [
    "type(X)"
   ]
  },
  {
   "cell_type": "code",
   "execution_count": 42,
   "metadata": {},
   "outputs": [
    {
     "data": {
      "text/plain": [
       "dtype('float64')"
      ]
     },
     "execution_count": 42,
     "metadata": {},
     "output_type": "execute_result"
    }
   ],
   "source": [
    "X = X.astype(np.float64)\n",
    "X.dtype"
   ]
  },
  {
   "cell_type": "code",
   "execution_count": 43,
   "metadata": {},
   "outputs": [
    {
     "data": {
      "text/plain": [
       "dtype('float64')"
      ]
     },
     "execution_count": 43,
     "metadata": {},
     "output_type": "execute_result"
    }
   ],
   "source": [
    "Y = Y.astype(np.float64)\n",
    "Y.dtype"
   ]
  },
  {
   "cell_type": "code",
   "execution_count": 47,
   "metadata": {},
   "outputs": [
    {
     "name": "stderr",
     "output_type": "stream",
     "text": [
      "/Users/tokoshige_mac/anaconda3/lib/python3.7/site-packages/ipykernel_launcher.py:2: FutureWarning: `rcond` parameter will change to the default of machine precision times ``max(M, N)`` where M and N are the input matrix dimensions.\n",
      "To use the future default and silence this warning we advise to pass `rcond=None`, to keep using the old, explicitly pass `rcond=-1`.\n",
      "  \n"
     ]
    },
    {
     "data": {
      "text/plain": [
       "(array([  9.10210898, -34.67062078]),\n",
       " array([22061.87919621]),\n",
       " 2,\n",
       " array([143.99484122,   2.46656609]))"
      ]
     },
     "execution_count": 47,
     "metadata": {},
     "output_type": "execute_result"
    }
   ],
   "source": [
    "#最小二乗法の計算を実行\n",
    "np.linalg.lstsq(X,Y)"
   ]
  },
  {
   "cell_type": "code",
   "execution_count": 48,
   "metadata": {},
   "outputs": [
    {
     "name": "stderr",
     "output_type": "stream",
     "text": [
      "/Users/tokoshige_mac/anaconda3/lib/python3.7/site-packages/ipykernel_launcher.py:2: FutureWarning: `rcond` parameter will change to the default of machine precision times ``max(M, N)`` where M and N are the input matrix dimensions.\n",
      "To use the future default and silence this warning we advise to pass `rcond=None`, to keep using the old, explicitly pass `rcond=-1`.\n",
      "  \n"
     ]
    }
   ],
   "source": [
    "#最小二乗法の計算を実行\n",
    "a,b = np.linalg.lstsq(X,Y)[0]"
   ]
  },
  {
   "cell_type": "code",
   "execution_count": 49,
   "metadata": {},
   "outputs": [
    {
     "data": {
      "text/plain": [
       "[<matplotlib.lines.Line2D at 0x1a26e09860>]"
      ]
     },
     "execution_count": 49,
     "metadata": {},
     "output_type": "execute_result"
    },
    {
     "data": {
      "image/png": "[encoded data removed]",
      "text/plain": [
       "<Figure size 432x288 with 1 Axes>"
      ]
     },
     "metadata": {
      "needs_background": "light"
     },
     "output_type": "display_data"
    }
   ],
   "source": [
    "plt.plot(boston_df.RM, boston_df.Price, 'o')\n",
    "\n",
    "x = boston_df.RM\n",
    "plt.plot(x, a*x+b, 'r')"
   ]
  },
  {
   "cell_type": "markdown",
   "metadata": {},
   "source": [
    "\n",
    "## Step 5: 誤差について\n",
    "Pythonを使って、最小二乗法を用いて、単回帰を実行出来ました。 すべてのデータが完全に乗る直線を描くことは出来ませんので、どうしても誤差が出ます。\n",
    "\n",
    "最小化しているのは、誤差の2乗和でした。ですので、全体の誤差が分かれば、それをサンプルの数で割って、平方根をとることで、ちょうど標準偏差のようなイメージで、平均誤差を計算できます。\n",
    "\n",
    "numpy.linalg.lstsqのドキュメント（英語）"
   ]
  },
  {
   "cell_type": "code",
   "execution_count": 50,
   "metadata": {},
   "outputs": [
    {
     "name": "stderr",
     "output_type": "stream",
     "text": [
      "/Users/tokoshige_mac/anaconda3/lib/python3.7/site-packages/ipykernel_launcher.py:1: FutureWarning: `rcond` parameter will change to the default of machine precision times ``max(M, N)`` where M and N are the input matrix dimensions.\n",
      "To use the future default and silence this warning we advise to pass `rcond=None`, to keep using the old, explicitly pass `rcond=-1`.\n",
      "  \"\"\"Entry point for launching an IPython kernel.\n"
     ]
    }
   ],
   "source": [
    "result = np.linalg.lstsq(X,Y)"
   ]
  },
  {
   "cell_type": "code",
   "execution_count": 51,
   "metadata": {},
   "outputs": [
    {
     "data": {
      "text/plain": [
       "(array([  9.10210898, -34.67062078]),\n",
       " array([22061.87919621]),\n",
       " 2,\n",
       " array([143.99484122,   2.46656609]))"
      ]
     },
     "execution_count": 51,
     "metadata": {},
     "output_type": "execute_result"
    }
   ],
   "source": [
    "result"
   ]
  },
  {
   "cell_type": "code",
   "execution_count": 52,
   "metadata": {},
   "outputs": [],
   "source": [
    "error_total = result[1]\n",
    "rmse = np.sqrt(error_total/len(x))  #root mean squere error"
   ]
  },
  {
   "cell_type": "code",
   "execution_count": 53,
   "metadata": {},
   "outputs": [
    {
     "name": "stdout",
     "output_type": "stream",
     "text": [
      "平均二乗誤差の平方根=6.60\n"
     ]
    }
   ],
   "source": [
    "print('平均二乗誤差の平方根={:0.2f}'.format(rmse[0]))"
   ]
  },
  {
   "cell_type": "markdown",
   "metadata": {},
   "source": [
    "\n",
    "平均二乗誤差は、標準偏差に対応するので、95%の確率で、この値の2倍以上誤差が広がることは無いと結論付けあれます。 正規分布の性質を思い出したい方は、こちらを参照.\n",
    "\n",
    "Thus we can reasonably expect a house price to be within $13,200 of our line fit.\n",
    "\n",
    "## Step 6: scikit-learnを使った重回帰分析\n",
    "それでは、重回帰へと話を進めましょう。 説明変数が1つだけだと単回帰ですが、重回帰は複数の説明変数を同時に扱うことができます。\n",
    "\n",
    "scikit-learnの線形回帰ライブラリを利用します。 linear regression library\n",
    "\n",
    "sklearn.linear_model.LinearRegressionクラスは、データを元にモデルを作り、予測値を返すことができます。 モデルを作る時には、fit()メソッドを呼び、予測をするときは、predict()メソッドを使います。 今回は重回帰モデルを使いますが、他のモデルも同じように、fitとpredictメソッドを実装しているところが、scikit-learnの便利なところです。"
   ]
  },
  {
   "cell_type": "code",
   "execution_count": 54,
   "metadata": {},
   "outputs": [],
   "source": [
    "import sklearn\n",
    "from sklearn.linear_model import LinearRegression"
   ]
  },
  {
   "cell_type": "code",
   "execution_count": 55,
   "metadata": {},
   "outputs": [],
   "source": [
    "lreg = LinearRegression()"
   ]
  },
  {
   "cell_type": "code",
   "execution_count": 59,
   "metadata": {},
   "outputs": [],
   "source": [
    "#説明変数の用意\n",
    "X_multi = boston_df.drop('Price',1)"
   ]
  },
  {
   "cell_type": "code",
   "execution_count": 60,
   "metadata": {},
   "outputs": [
    {
     "data": {
      "text/html": [
       "<div>\n",
       "<style scoped>\n",
       "    .dataframe tbody tr th:only-of-type {\n",
       "        vertical-align: middle;\n",
       "    }\n",
       "\n",
       "    .dataframe tbody tr th {\n",
       "        vertical-align: top;\n",
       "    }\n",
       "\n",
       "    .dataframe thead th {\n",
       "        text-align: right;\n",
       "    }\n",
       "</style>\n",
       "<table border=\"1\" class=\"dataframe\">\n",
       "  <thead>\n",
       "    <tr style=\"text-align: right;\">\n",
       "      <th></th>\n",
       "      <th>CRIM</th>\n",
       "      <th>ZN</th>\n",
       "      <th>INDUS</th>\n",
       "      <th>CHAS</th>\n",
       "      <th>NOX</th>\n",
       "      <th>RM</th>\n",
       "      <th>AGE</th>\n",
       "      <th>DIS</th>\n",
       "      <th>RAD</th>\n",
       "      <th>TAX</th>\n",
       "      <th>PTRATIO</th>\n",
       "      <th>B</th>\n",
       "      <th>LSTAT</th>\n",
       "    </tr>\n",
       "  </thead>\n",
       "  <tbody>\n",
       "    <tr>\n",
       "      <th>0</th>\n",
       "      <td>0.00632</td>\n",
       "      <td>18.0</td>\n",
       "      <td>2.31</td>\n",
       "      <td>0.0</td>\n",
       "      <td>0.538</td>\n",
       "      <td>6.575</td>\n",
       "      <td>65.2</td>\n",
       "      <td>4.0900</td>\n",
       "      <td>1.0</td>\n",
       "      <td>296.0</td>\n",
       "      <td>15.3</td>\n",
       "      <td>396.90</td>\n",
       "      <td>4.98</td>\n",
       "    </tr>\n",
       "    <tr>\n",
       "      <th>1</th>\n",
       "      <td>0.02731</td>\n",
       "      <td>0.0</td>\n",
       "      <td>7.07</td>\n",
       "      <td>0.0</td>\n",
       "      <td>0.469</td>\n",
       "      <td>6.421</td>\n",
       "      <td>78.9</td>\n",
       "      <td>4.9671</td>\n",
       "      <td>2.0</td>\n",
       "      <td>242.0</td>\n",
       "      <td>17.8</td>\n",
       "      <td>396.90</td>\n",
       "      <td>9.14</td>\n",
       "    </tr>\n",
       "    <tr>\n",
       "      <th>2</th>\n",
       "      <td>0.02729</td>\n",
       "      <td>0.0</td>\n",
       "      <td>7.07</td>\n",
       "      <td>0.0</td>\n",
       "      <td>0.469</td>\n",
       "      <td>7.185</td>\n",
       "      <td>61.1</td>\n",
       "      <td>4.9671</td>\n",
       "      <td>2.0</td>\n",
       "      <td>242.0</td>\n",
       "      <td>17.8</td>\n",
       "      <td>392.83</td>\n",
       "      <td>4.03</td>\n",
       "    </tr>\n",
       "    <tr>\n",
       "      <th>3</th>\n",
       "      <td>0.03237</td>\n",
       "      <td>0.0</td>\n",
       "      <td>2.18</td>\n",
       "      <td>0.0</td>\n",
       "      <td>0.458</td>\n",
       "      <td>6.998</td>\n",
       "      <td>45.8</td>\n",
       "      <td>6.0622</td>\n",
       "      <td>3.0</td>\n",
       "      <td>222.0</td>\n",
       "      <td>18.7</td>\n",
       "      <td>394.63</td>\n",
       "      <td>2.94</td>\n",
       "    </tr>\n",
       "    <tr>\n",
       "      <th>4</th>\n",
       "      <td>0.06905</td>\n",
       "      <td>0.0</td>\n",
       "      <td>2.18</td>\n",
       "      <td>0.0</td>\n",
       "      <td>0.458</td>\n",
       "      <td>7.147</td>\n",
       "      <td>54.2</td>\n",
       "      <td>6.0622</td>\n",
       "      <td>3.0</td>\n",
       "      <td>222.0</td>\n",
       "      <td>18.7</td>\n",
       "      <td>396.90</td>\n",
       "      <td>5.33</td>\n",
       "    </tr>\n",
       "  </tbody>\n",
       "</table>\n",
       "</div>"
      ],
      "text/plain": [
       "      CRIM    ZN  INDUS  CHAS    NOX  ...    RAD    TAX  PTRATIO       B  LSTAT\n",
       "0  0.00632  18.0   2.31   0.0  0.538  ...    1.0  296.0     15.3  396.90   4.98\n",
       "1  0.02731   0.0   7.07   0.0  0.469  ...    2.0  242.0     17.8  396.90   9.14\n",
       "2  0.02729   0.0   7.07   0.0  0.469  ...    2.0  242.0     17.8  392.83   4.03\n",
       "3  0.03237   0.0   2.18   0.0  0.458  ...    3.0  222.0     18.7  394.63   2.94\n",
       "4  0.06905   0.0   2.18   0.0  0.458  ...    3.0  222.0     18.7  396.90   5.33\n",
       "\n",
       "[5 rows x 13 columns]"
      ]
     },
     "execution_count": 60,
     "metadata": {},
     "output_type": "execute_result"
    }
   ],
   "source": [
    "X_multi.head()"
   ]
  },
  {
   "cell_type": "code",
   "execution_count": 61,
   "metadata": {},
   "outputs": [
    {
     "data": {
      "text/plain": [
       "(506, 13)"
      ]
     },
     "execution_count": 61,
     "metadata": {},
     "output_type": "execute_result"
    }
   ],
   "source": [
    "X_multi.shape"
   ]
  },
  {
   "cell_type": "code",
   "execution_count": 62,
   "metadata": {},
   "outputs": [],
   "source": [
    "#重回帰は説明変数が複数\n",
    "Y_target = boston_df.Price"
   ]
  },
  {
   "cell_type": "code",
   "execution_count": 63,
   "metadata": {},
   "outputs": [
    {
     "data": {
      "text/plain": [
       "LinearRegression(copy_X=True, fit_intercept=True, n_jobs=None,\n",
       "         normalize=False)"
      ]
     },
     "execution_count": 63,
     "metadata": {},
     "output_type": "execute_result"
    }
   ],
   "source": [
    "lreg.fit(X_multi, Y_target)"
   ]
  },
  {
   "cell_type": "code",
   "execution_count": 64,
   "metadata": {},
   "outputs": [
    {
     "data": {
      "text/plain": [
       "36.45948838509015"
      ]
     },
     "execution_count": 64,
     "metadata": {},
     "output_type": "execute_result"
    }
   ],
   "source": [
    "lreg.intercept_ #y=ax+bのb"
   ]
  },
  {
   "cell_type": "code",
   "execution_count": 65,
   "metadata": {},
   "outputs": [
    {
     "data": {
      "text/plain": [
       "13"
      ]
     },
     "execution_count": 65,
     "metadata": {},
     "output_type": "execute_result"
    }
   ],
   "source": [
    "len(lreg.coef_) #係数の数"
   ]
  },
  {
   "cell_type": "markdown",
   "metadata": {},
   "source": [
    "単回帰の時は、直線だったので、係数aと切片bはともに1つでした。今は、切片は1つですが、係数が13個あります。これは13個変数がある式になっている事を意味しています。\n",
    "\n",
    "y=b+a1x1+a2x2+⋯+a13x13\n",
    " \n",
    "実際に求められた係数を見ていきましょう。"
   ]
  },
  {
   "cell_type": "code",
   "execution_count": 66,
   "metadata": {},
   "outputs": [],
   "source": [
    "coeff_df = DataFrame(boston_df.columns)"
   ]
  },
  {
   "cell_type": "code",
   "execution_count": 67,
   "metadata": {},
   "outputs": [],
   "source": [
    "coeff_df.columns = ['Features']"
   ]
  },
  {
   "cell_type": "code",
   "execution_count": 68,
   "metadata": {},
   "outputs": [],
   "source": [
    "coeff_df['Coefficient Estimate'] = pd.Series(lreg.coef_)"
   ]
  },
  {
   "cell_type": "code",
   "execution_count": 69,
   "metadata": {},
   "outputs": [
    {
     "data": {
      "text/html": [
       "<div>\n",
       "<style scoped>\n",
       "    .dataframe tbody tr th:only-of-type {\n",
       "        vertical-align: middle;\n",
       "    }\n",
       "\n",
       "    .dataframe tbody tr th {\n",
       "        vertical-align: top;\n",
       "    }\n",
       "\n",
       "    .dataframe thead th {\n",
       "        text-align: right;\n",
       "    }\n",
       "</style>\n",
       "<table border=\"1\" class=\"dataframe\">\n",
       "  <thead>\n",
       "    <tr style=\"text-align: right;\">\n",
       "      <th></th>\n",
       "      <th>Features</th>\n",
       "      <th>Coefficient Estimate</th>\n",
       "    </tr>\n",
       "  </thead>\n",
       "  <tbody>\n",
       "    <tr>\n",
       "      <th>0</th>\n",
       "      <td>CRIM</td>\n",
       "      <td>-0.108011</td>\n",
       "    </tr>\n",
       "    <tr>\n",
       "      <th>1</th>\n",
       "      <td>ZN</td>\n",
       "      <td>0.046420</td>\n",
       "    </tr>\n",
       "    <tr>\n",
       "      <th>2</th>\n",
       "      <td>INDUS</td>\n",
       "      <td>0.020559</td>\n",
       "    </tr>\n",
       "    <tr>\n",
       "      <th>3</th>\n",
       "      <td>CHAS</td>\n",
       "      <td>2.686734</td>\n",
       "    </tr>\n",
       "    <tr>\n",
       "      <th>4</th>\n",
       "      <td>NOX</td>\n",
       "      <td>-17.766611</td>\n",
       "    </tr>\n",
       "    <tr>\n",
       "      <th>5</th>\n",
       "      <td>RM</td>\n",
       "      <td>3.809865</td>\n",
       "    </tr>\n",
       "    <tr>\n",
       "      <th>6</th>\n",
       "      <td>AGE</td>\n",
       "      <td>0.000692</td>\n",
       "    </tr>\n",
       "    <tr>\n",
       "      <th>7</th>\n",
       "      <td>DIS</td>\n",
       "      <td>-1.475567</td>\n",
       "    </tr>\n",
       "    <tr>\n",
       "      <th>8</th>\n",
       "      <td>RAD</td>\n",
       "      <td>0.306049</td>\n",
       "    </tr>\n",
       "    <tr>\n",
       "      <th>9</th>\n",
       "      <td>TAX</td>\n",
       "      <td>-0.012335</td>\n",
       "    </tr>\n",
       "    <tr>\n",
       "      <th>10</th>\n",
       "      <td>PTRATIO</td>\n",
       "      <td>-0.952747</td>\n",
       "    </tr>\n",
       "    <tr>\n",
       "      <th>11</th>\n",
       "      <td>B</td>\n",
       "      <td>0.009312</td>\n",
       "    </tr>\n",
       "    <tr>\n",
       "      <th>12</th>\n",
       "      <td>LSTAT</td>\n",
       "      <td>-0.524758</td>\n",
       "    </tr>\n",
       "    <tr>\n",
       "      <th>13</th>\n",
       "      <td>Price</td>\n",
       "      <td>NaN</td>\n",
       "    </tr>\n",
       "  </tbody>\n",
       "</table>\n",
       "</div>"
      ],
      "text/plain": [
       "   Features  Coefficient Estimate\n",
       "0      CRIM             -0.108011\n",
       "1        ZN              0.046420\n",
       "2     INDUS              0.020559\n",
       "3      CHAS              2.686734\n",
       "4       NOX            -17.766611\n",
       "5        RM              3.809865\n",
       "6       AGE              0.000692\n",
       "7       DIS             -1.475567\n",
       "8       RAD              0.306049\n",
       "9       TAX             -0.012335\n",
       "10  PTRATIO             -0.952747\n",
       "11        B              0.009312\n",
       "12    LSTAT             -0.524758\n",
       "13    Price                   NaN"
      ]
     },
     "execution_count": 69,
     "metadata": {},
     "output_type": "execute_result"
    }
   ],
   "source": [
    "coeff_df"
   ]
  },
  {
   "cell_type": "markdown",
   "metadata": {},
   "source": [
    "## Step 7: 学習（Training）と検証（Validation）\n",
    "ここまではすべてのデータを使って来ましたが、一部のデータを使って、モデルを作り、残りのデータを使って、モデルを検証するということができます。\n",
    "\n",
    "サンプルをどのように分けるかが問題ですが、scikit-learnに便利な関数 train_test_split があるので、使って見ましょう。\n",
    "\n",
    "サンプルを学習用のtrainと検証用のtestに分けてくれます。追加のパラメータを渡せば、割合も調整できます。 詳しくはこちら"
   ]
  },
  {
   "cell_type": "code",
   "execution_count": 71,
   "metadata": {},
   "outputs": [],
   "source": [
    "X_train, X_test, Y_train, Y_test = sklearn.model_selection.train_test_split(X_multi, boston_df.Price)"
   ]
  },
  {
   "cell_type": "code",
   "execution_count": 83,
   "metadata": {},
   "outputs": [
    {
     "data": {
      "text/plain": [
       "22     15.2\n",
       "482    25.0\n",
       "229    31.5\n",
       "306    33.4\n",
       "401     7.2\n",
       "Name: Price, dtype: float64"
      ]
     },
     "execution_count": 83,
     "metadata": {},
     "output_type": "execute_result"
    }
   ],
   "source": [
    "Y_train.head()"
   ]
  },
  {
   "cell_type": "code",
   "execution_count": 84,
   "metadata": {},
   "outputs": [
    {
     "data": {
      "text/plain": [
       "55     35.4\n",
       "200    32.9\n",
       "190    37.0\n",
       "379    10.2\n",
       "338    20.6\n",
       "Name: Price, dtype: float64"
      ]
     },
     "execution_count": 84,
     "metadata": {},
     "output_type": "execute_result"
    }
   ],
   "source": [
    "Y_test.head()"
   ]
  },
  {
   "cell_type": "code",
   "execution_count": 72,
   "metadata": {},
   "outputs": [
    {
     "name": "stdout",
     "output_type": "stream",
     "text": [
      "(379, 13) (127, 13) (379,) (127,)\n"
     ]
    }
   ],
   "source": [
    "print(X_train.shape, X_test.shape, Y_train.shape, Y_test.shape)"
   ]
  },
  {
   "cell_type": "code",
   "execution_count": 73,
   "metadata": {},
   "outputs": [],
   "source": [
    "lreg = LinearRegression()"
   ]
  },
  {
   "cell_type": "code",
   "execution_count": 74,
   "metadata": {},
   "outputs": [
    {
     "data": {
      "text/plain": [
       "LinearRegression(copy_X=True, fit_intercept=True, n_jobs=None,\n",
       "         normalize=False)"
      ]
     },
     "execution_count": 74,
     "metadata": {},
     "output_type": "execute_result"
    }
   ],
   "source": [
    "lreg.fit(X_train, Y_train)"
   ]
  },
  {
   "cell_type": "code",
   "execution_count": 79,
   "metadata": {
    "collapsed": true
   },
   "outputs": [
    {
     "data": {
      "text/plain": [
       "array([16.2955265 , 26.73544777, 31.17063412, 34.95136284, 17.38218887,\n",
       "        2.7636571 , 25.69895746, 25.64007721, 20.32662594,  7.56508656,\n",
       "       19.3729628 , 18.68286466, 23.25722533, 18.70160765, 18.71665106,\n",
       "       28.13856208, 11.16679762, 25.18699546, 25.09870185, 24.57881531,\n",
       "       23.42308785, 14.86342981, 28.29993763,  9.23355457, 11.45799151,\n",
       "       24.69404047, 18.24499779, 29.32854352, 19.41400055, 27.19474598,\n",
       "       20.1907323 , 26.58629334, 16.68459371,  7.72293802, 17.54913426,\n",
       "       12.3510062 , 30.02828978, 23.95772713, 37.56339489, 20.14942506,\n",
       "       12.42103523, 24.02135601, 15.80692467, 19.95973644, 29.94636488,\n",
       "       27.81918431, 17.33181107, 30.55485098, 17.08235211, 18.33228828,\n",
       "       25.0898939 , 24.02477924, 21.8446087 , 29.20772111, 21.83423525,\n",
       "       22.26985714, 23.41122292, 19.74589608, 21.24748025, 22.59820601,\n",
       "       20.19515934, 28.09479877, 28.21413549, 21.22324861, 34.6872025 ,\n",
       "       21.50001736, 27.72138782, 33.06588027, 16.49149652, 21.71266565,\n",
       "       22.20568593, 18.66428173, 24.96780802, 22.7097146 , 34.28668555,\n",
       "       36.4235372 , 25.42937247, 18.42516143, 32.53550582, 22.10780038,\n",
       "       27.07539645, 17.35808302, 17.00201393, 28.90167941, 31.80580142,\n",
       "       37.51409795, 26.15007399, 12.61162969, 23.84531157, 33.52652186,\n",
       "       21.2191432 , 30.47989639, 20.93183845, 19.10438579, 25.0618621 ,\n",
       "       17.8799211 , 20.16498398, 21.37308057, 27.61235185, 21.76082985,\n",
       "       17.23575405, -3.23659721, 19.59953747, 33.33662817, 12.55212657,\n",
       "        6.77210344, 13.47416384, 25.39687734, 15.66715419, 28.40935648,\n",
       "        3.4031726 ,  9.78380033, 18.29791755, 33.69508224, 28.45424233,\n",
       "       31.19005747, 18.43551026, 21.94494274, 25.16024863, 27.66471957,\n",
       "       22.57385813, 24.49282458,  8.9176197 , 20.42003805, 30.40355974,\n",
       "       27.86651729, 23.20960902, 35.70017576, 19.48065381, 22.35728469,\n",
       "       13.3777211 , 22.60408036, 16.67845994, 26.79004873, 20.06267962,\n",
       "       12.99770574, 27.14710521, 28.61888178, 19.18673879, 25.50202234,\n",
       "       22.54127025, 28.68219892, 24.35821036, 15.61267196, 27.3240606 ,\n",
       "       39.27022088, 34.00101471, 34.52512923, 33.12559584, 19.12066362,\n",
       "       10.9032296 , 25.48917061, 23.3116995 , 22.8472763 , 14.09691133,\n",
       "       22.86321337, 23.10594207, 17.35016567, 16.36430399, 25.12122074,\n",
       "       19.61833577, 17.519621  , 27.18921493, 18.97889281, 18.37445721,\n",
       "       22.46804864, 20.13489943, 31.56141868, 22.40694674, 23.14816777,\n",
       "       15.1771401 , 22.09281056, 21.84186569, 15.19712519,  5.0982621 ,\n",
       "       23.15442217, 24.36120673, 18.86854788, 20.20957679, 18.93187227,\n",
       "       16.85148827, 20.95201986,  7.45591394, 28.84875783, 28.27669111,\n",
       "       32.12920936, 24.53136718, 14.07585313, 26.68618245, 26.87324419,\n",
       "       22.777139  , 26.95029696, 17.51167603, 16.65949811, 23.26023142,\n",
       "       17.59294291, 34.58137524, 20.72414035, 35.79516161, 32.75017031,\n",
       "       15.49816226, 28.44009119, 34.16843663, 11.93308309,  5.29060681,\n",
       "        7.57941125, 21.68212194, 16.67598129, 20.31440833, 17.730122  ,\n",
       "       14.27854251, 30.87568069, 13.95581431, 33.1316033 , 15.21741163,\n",
       "       14.79878523, 21.85870073, 30.4326278 , 24.77917133, 30.85953883,\n",
       "       28.64774234, 23.22322598, 24.65053931, 33.39669779, 15.88228097,\n",
       "       13.4513138 , 13.87449157, 21.93633555, 20.72050779, 21.74905845,\n",
       "       24.27987797, 17.64112964, 23.80707188, 34.18384189, 23.31930219,\n",
       "       35.28123617, 30.52559267, 13.55120297, 18.52552175, 20.84317794,\n",
       "       40.20170059, 18.76317302, 21.89401966, 11.8472623 , 33.6144898 ,\n",
       "       28.73928758, 21.83054628, 20.3779912 , 16.47619988, 16.27332489,\n",
       "       33.95256778, 22.17081047, 26.09370094, 21.35229138, 20.23487461,\n",
       "       17.49698271, 14.44487934, 38.06462522,  7.57338629, 15.67678686,\n",
       "       23.63924943, 18.46986928, 35.3018411 , 20.7864782 ,  5.15645736,\n",
       "       23.34531387, 17.96568762, 32.45365674, 25.80487373, 32.67693935,\n",
       "       23.98536448, 16.515531  , 22.37466409, 16.17410739, 28.14515379,\n",
       "       24.91781634, 26.49773342, 19.24620855, 21.17006476, 20.71915011,\n",
       "       34.24853199, 13.70586666, 31.66566825, 21.61772565, 19.35247902,\n",
       "       16.87559558, 14.14032826, 13.04248319, 14.93575109, 17.48713938,\n",
       "       14.45174621, 14.39710339, 24.37764768, 34.40425201, 23.62387453,\n",
       "       20.4884243 , 23.26659986, 30.29299387, 18.79250303, 32.57534482,\n",
       "       27.15934217, 12.60897607, 29.4416135 ,  8.70634967, 25.2803125 ,\n",
       "       19.81386493, 18.5970756 , 16.78959099, 19.913602  , 18.31167076,\n",
       "       15.89954187, 14.71374319, 24.00338969, 22.75200047, 19.54112181,\n",
       "       21.13124689,  9.82877443, 15.20805148, 20.23922529, 29.25933357,\n",
       "       26.39311089, 22.98956288, 25.2265499 , 17.08189434, 30.96117373,\n",
       "       20.19452743, 26.05829213, 30.08723589, 24.47176865, 13.78240954,\n",
       "       32.74824578, 24.43693988, 25.65059411, 24.78207105, 25.399389  ,\n",
       "       32.73055425, 20.93632327, 13.74167655, 24.2700469 , 16.30769923,\n",
       "       29.53712414, 29.05606824,  7.42715285, 12.822305  , 11.88418484,\n",
       "       13.32534146, 25.37596051, 24.42032237, 22.57954457, 21.15250922,\n",
       "       14.40484864, 19.5877328 , 20.83819628, 24.67017658, 14.69471149,\n",
       "       31.19345307, 19.31063502, 28.36895559, 31.07849078, 29.92603193,\n",
       "       18.58772709, 25.23948594, 11.65550038, 19.79616924, 24.48684101,\n",
       "       23.38620671, 23.87624513, 20.15761698, 34.62490483, 25.08451055,\n",
       "        6.78515821, 21.01823552, 26.74882334, 27.13177421, 27.07986918,\n",
       "       20.98855511, 11.49917786, 27.97955018,  9.39983202])"
      ]
     },
     "execution_count": 79,
     "metadata": {},
     "output_type": "execute_result"
    }
   ],
   "source": [
    "pred_train = lreg.predict(X_train)\n",
    "pred_train"
   ]
  },
  {
   "cell_type": "code",
   "execution_count": 76,
   "metadata": {},
   "outputs": [],
   "source": [
    "pred_test = lreg.predict(X_test)"
   ]
  },
  {
   "cell_type": "code",
   "execution_count": 77,
   "metadata": {},
   "outputs": [
    {
     "data": {
      "text/plain": [
       "18.505836997950333"
      ]
     },
     "execution_count": 77,
     "metadata": {},
     "output_type": "execute_result"
    }
   ],
   "source": [
    "np.mean((Y_train - pred_train)**2)"
   ]
  },
  {
   "cell_type": "code",
   "execution_count": 78,
   "metadata": {},
   "outputs": [
    {
     "data": {
      "text/plain": [
       "36.243569107095155"
      ]
     },
     "execution_count": 78,
     "metadata": {},
     "output_type": "execute_result"
    }
   ],
   "source": [
    "np.mean((Y_test - pred_test)**2)"
   ]
  },
  {
   "cell_type": "code",
   "execution_count": 80,
   "metadata": {},
   "outputs": [
    {
     "data": {
      "text/plain": [
       "Text(0.5, 1.0, 'Residual plots')"
      ]
     },
     "execution_count": 80,
     "metadata": {},
     "output_type": "execute_result"
    },
    {
     "data": {
      "image/png": "[encoded data removed]",
      "text/plain": [
       "<Figure size 432x288 with 1 Axes>"
      ]
     },
     "metadata": {
      "needs_background": "light"
     },
     "output_type": "display_data"
    }
   ],
   "source": [
    "train = plt.scatter(pred_train, (pred_train - Y_train), c='b', alpha=.5)\n",
    "test = plt.scatter(pred_test, (pred_test-Y_test),c='r',alpha=.5)\n",
    "plt.hlines(y=0,xmin=1.0,xmax=50)\n",
    "\n",
    "plt.legend((train,test),('Training','Test'), loc='lower left')\n",
    "plt.title('Residual plots')"
   ]
  },
  {
   "cell_type": "code",
   "execution_count": null,
   "metadata": {},
   "outputs": [],
   "source": []
  }
 ],
 "metadata": {
  "jupytext": {
   "main_language": "python",
   "text_representation": {
    "extension": ".py",
    "format_name": "light",
    "format_version": "1.3",
    "jupytext_version": "1.0.2"
   }
  },
  "kernelspec": {
   "display_name": "Python 3",
   "language": "python",
   "name": "python3"
  },
  "language_info": {
   "codemirror_mode": {
    "name": "ipython",
    "version": 3
   },
   "file_extension": ".py",
   "mimetype": "text/x-python",
   "name": "python",
   "nbconvert_exporter": "python",
   "pygments_lexer": "ipython3",
   "version": "3.7.1"
  },
  "toc": {
   "base_numbering": 1,
   "nav_menu": {},
   "number_sections": true,
   "sideBar": true,
   "skip_h1_title": false,
   "title_cell": "Table of Contents",
   "title_sidebar": "Contents",
   "toc_cell": false,
   "toc_position": {},
   "toc_section_display": true,
   "toc_window_display": false
  }
 },
 "nbformat": 4,
 "nbformat_minor": 2
}
